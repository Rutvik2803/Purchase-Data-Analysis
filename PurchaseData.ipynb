{
 "cells": [
  {
   "cell_type": "code",
   "id": "7ba9dfdf",
   "metadata": {
    "id": "7ba9dfdf",
    "ExecuteTime": {
     "end_time": "2024-07-16T06:56:19.578801Z",
     "start_time": "2024-07-16T06:56:19.574453Z"
    }
   },
   "source": [
    "#importing the required libraries\n",
    "import numpy as np\n",
    "import pandas as pd\n",
    "import matplotlib.pyplot as plt\n",
    "import seaborn as sns"
   ],
   "outputs": [],
   "execution_count": 1
  },
  {
   "cell_type": "code",
   "id": "91324f04",
   "metadata": {
    "id": "91324f04",
    "ExecuteTime": {
     "end_time": "2024-07-16T06:56:30.375732Z",
     "start_time": "2024-07-16T06:56:30.178543Z"
    }
   },
   "source": [
    "#Data loading\n",
    "data = pd.read_csv(\"PURCHASE.CSV\")\n",
    "#data = pd.read_csv(r\"C:\\Users\\Dell\\Downloads\\train (6).csv\")"
   ],
   "outputs": [],
   "execution_count": 3
  },
  {
   "cell_type": "code",
   "execution_count": 5,
   "id": "b2a5880d",
   "metadata": {
    "colab": {
     "base_uri": "https://localhost:8080/",
     "height": 557
    },
    "id": "b2a5880d",
    "outputId": "58ebe8f9-824d-4313-c2ef-edd8a1e0d8e7"
   },
   "outputs": [
    {
     "output_type": "execute_result",
     "data": {
      "text/plain": [
       "        User_ID Product_ID Gender    Age City_Category  \\\n",
       "0       1000001  P00069042      F   0-17             A   \n",
       "1       1000001  P00248942      F   0-17             A   \n",
       "2       1000001  P00087842      F   0-17             A   \n",
       "3       1000001  P00085442      F   0-17             A   \n",
       "4       1000002  P00285442      M    55+             C   \n",
       "...         ...        ...    ...    ...           ...   \n",
       "263010  1004473  P00041942      M  36-45             B   \n",
       "263011  1004473  P00115142      M  36-45             B   \n",
       "263012  1004473  P00188442      M  36-45             B   \n",
       "263013  1004473  P00119442      M  36-45             B   \n",
       "263014       10        NaN    NaN    NaN           NaN   \n",
       "\n",
       "       Stay_In_Current_City_Years  Marital_Status  Product_Category_1  \\\n",
       "0                               2             0.0                 3.0   \n",
       "1                               2             0.0                 1.0   \n",
       "2                               2             0.0                12.0   \n",
       "3                               2             0.0                12.0   \n",
       "4                              4+             0.0                 8.0   \n",
       "...                           ...             ...                 ...   \n",
       "263010                          3             0.0                 5.0   \n",
       "263011                          3             0.0                 1.0   \n",
       "263012                          3             0.0                 5.0   \n",
       "263013                          3             0.0                 5.0   \n",
       "263014                        NaN             NaN                 NaN   \n",
       "\n",
       "        Product_Category_2  Product_Category_3  Purchase  \n",
       "0                      NaN                 NaN    8370.0  \n",
       "1                      6.0                14.0   15200.0  \n",
       "2                      NaN                 NaN    1422.0  \n",
       "3                     14.0                 NaN    1057.0  \n",
       "4                      NaN                 NaN    7969.0  \n",
       "...                    ...                 ...       ...  \n",
       "263010                18.0                 NaN    3722.0  \n",
       "263011                 8.0                17.0   19253.0  \n",
       "263012                 7.0                 NaN    3608.0  \n",
       "263013                 NaN                 NaN    3604.0  \n",
       "263014                 NaN                 NaN       NaN  \n",
       "\n",
       "[263015 rows x 11 columns]"
      ],
      "text/html": [
       "\n",
       "  <div id=\"df-6a795a1c-4564-4629-8f87-43567bafd7ce\">\n",
       "    <div class=\"colab-df-container\">\n",
       "      <div>\n",
       "<style scoped>\n",
       "    .dataframe tbody tr th:only-of-type {\n",
       "        vertical-align: middle;\n",
       "    }\n",
       "\n",
       "    .dataframe tbody tr th {\n",
       "        vertical-align: top;\n",
       "    }\n",
       "\n",
       "    .dataframe thead th {\n",
       "        text-align: right;\n",
       "    }\n",
       "</style>\n",
       "<table border=\"1\" class=\"dataframe\">\n",
       "  <thead>\n",
       "    <tr style=\"text-align: right;\">\n",
       "      <th></th>\n",
       "      <th>User_ID</th>\n",
       "      <th>Product_ID</th>\n",
       "      <th>Gender</th>\n",
       "      <th>Age</th>\n",
       "      <th>City_Category</th>\n",
       "      <th>Stay_In_Current_City_Years</th>\n",
       "      <th>Marital_Status</th>\n",
       "      <th>Product_Category_1</th>\n",
       "      <th>Product_Category_2</th>\n",
       "      <th>Product_Category_3</th>\n",
       "      <th>Purchase</th>\n",
       "    </tr>\n",
       "  </thead>\n",
       "  <tbody>\n",
       "    <tr>\n",
       "      <th>0</th>\n",
       "      <td>1000001</td>\n",
       "      <td>P00069042</td>\n",
       "      <td>F</td>\n",
       "      <td>0-17</td>\n",
       "      <td>A</td>\n",
       "      <td>2</td>\n",
       "      <td>0.0</td>\n",
       "      <td>3.0</td>\n",
       "      <td>NaN</td>\n",
       "      <td>NaN</td>\n",
       "      <td>8370.0</td>\n",
       "    </tr>\n",
       "    <tr>\n",
       "      <th>1</th>\n",
       "      <td>1000001</td>\n",
       "      <td>P00248942</td>\n",
       "      <td>F</td>\n",
       "      <td>0-17</td>\n",
       "      <td>A</td>\n",
       "      <td>2</td>\n",
       "      <td>0.0</td>\n",
       "      <td>1.0</td>\n",
       "      <td>6.0</td>\n",
       "      <td>14.0</td>\n",
       "      <td>15200.0</td>\n",
       "    </tr>\n",
       "    <tr>\n",
       "      <th>2</th>\n",
       "      <td>1000001</td>\n",
       "      <td>P00087842</td>\n",
       "      <td>F</td>\n",
       "      <td>0-17</td>\n",
       "      <td>A</td>\n",
       "      <td>2</td>\n",
       "      <td>0.0</td>\n",
       "      <td>12.0</td>\n",
       "      <td>NaN</td>\n",
       "      <td>NaN</td>\n",
       "      <td>1422.0</td>\n",
       "    </tr>\n",
       "    <tr>\n",
       "      <th>3</th>\n",
       "      <td>1000001</td>\n",
       "      <td>P00085442</td>\n",
       "      <td>F</td>\n",
       "      <td>0-17</td>\n",
       "      <td>A</td>\n",
       "      <td>2</td>\n",
       "      <td>0.0</td>\n",
       "      <td>12.0</td>\n",
       "      <td>14.0</td>\n",
       "      <td>NaN</td>\n",
       "      <td>1057.0</td>\n",
       "    </tr>\n",
       "    <tr>\n",
       "      <th>4</th>\n",
       "      <td>1000002</td>\n",
       "      <td>P00285442</td>\n",
       "      <td>M</td>\n",
       "      <td>55+</td>\n",
       "      <td>C</td>\n",
       "      <td>4+</td>\n",
       "      <td>0.0</td>\n",
       "      <td>8.0</td>\n",
       "      <td>NaN</td>\n",
       "      <td>NaN</td>\n",
       "      <td>7969.0</td>\n",
       "    </tr>\n",
       "    <tr>\n",
       "      <th>...</th>\n",
       "      <td>...</td>\n",
       "      <td>...</td>\n",
       "      <td>...</td>\n",
       "      <td>...</td>\n",
       "      <td>...</td>\n",
       "      <td>...</td>\n",
       "      <td>...</td>\n",
       "      <td>...</td>\n",
       "      <td>...</td>\n",
       "      <td>...</td>\n",
       "      <td>...</td>\n",
       "    </tr>\n",
       "    <tr>\n",
       "      <th>263010</th>\n",
       "      <td>1004473</td>\n",
       "      <td>P00041942</td>\n",
       "      <td>M</td>\n",
       "      <td>36-45</td>\n",
       "      <td>B</td>\n",
       "      <td>3</td>\n",
       "      <td>0.0</td>\n",
       "      <td>5.0</td>\n",
       "      <td>18.0</td>\n",
       "      <td>NaN</td>\n",
       "      <td>3722.0</td>\n",
       "    </tr>\n",
       "    <tr>\n",
       "      <th>263011</th>\n",
       "      <td>1004473</td>\n",
       "      <td>P00115142</td>\n",
       "      <td>M</td>\n",
       "      <td>36-45</td>\n",
       "      <td>B</td>\n",
       "      <td>3</td>\n",
       "      <td>0.0</td>\n",
       "      <td>1.0</td>\n",
       "      <td>8.0</td>\n",
       "      <td>17.0</td>\n",
       "      <td>19253.0</td>\n",
       "    </tr>\n",
       "    <tr>\n",
       "      <th>263012</th>\n",
       "      <td>1004473</td>\n",
       "      <td>P00188442</td>\n",
       "      <td>M</td>\n",
       "      <td>36-45</td>\n",
       "      <td>B</td>\n",
       "      <td>3</td>\n",
       "      <td>0.0</td>\n",
       "      <td>5.0</td>\n",
       "      <td>7.0</td>\n",
       "      <td>NaN</td>\n",
       "      <td>3608.0</td>\n",
       "    </tr>\n",
       "    <tr>\n",
       "      <th>263013</th>\n",
       "      <td>1004473</td>\n",
       "      <td>P00119442</td>\n",
       "      <td>M</td>\n",
       "      <td>36-45</td>\n",
       "      <td>B</td>\n",
       "      <td>3</td>\n",
       "      <td>0.0</td>\n",
       "      <td>5.0</td>\n",
       "      <td>NaN</td>\n",
       "      <td>NaN</td>\n",
       "      <td>3604.0</td>\n",
       "    </tr>\n",
       "    <tr>\n",
       "      <th>263014</th>\n",
       "      <td>10</td>\n",
       "      <td>NaN</td>\n",
       "      <td>NaN</td>\n",
       "      <td>NaN</td>\n",
       "      <td>NaN</td>\n",
       "      <td>NaN</td>\n",
       "      <td>NaN</td>\n",
       "      <td>NaN</td>\n",
       "      <td>NaN</td>\n",
       "      <td>NaN</td>\n",
       "      <td>NaN</td>\n",
       "    </tr>\n",
       "  </tbody>\n",
       "</table>\n",
       "<p>263015 rows × 11 columns</p>\n",
       "</div>\n",
       "      <button class=\"colab-df-convert\" onclick=\"convertToInteractive('df-6a795a1c-4564-4629-8f87-43567bafd7ce')\"\n",
       "              title=\"Convert this dataframe to an interactive table.\"\n",
       "              style=\"display:none;\">\n",
       "        \n",
       "  <svg xmlns=\"http://www.w3.org/2000/svg\" height=\"24px\"viewBox=\"0 0 24 24\"\n",
       "       width=\"24px\">\n",
       "    <path d=\"M0 0h24v24H0V0z\" fill=\"none\"/>\n",
       "    <path d=\"M18.56 5.44l.94 2.06.94-2.06 2.06-.94-2.06-.94-.94-2.06-.94 2.06-2.06.94zm-11 1L8.5 8.5l.94-2.06 2.06-.94-2.06-.94L8.5 2.5l-.94 2.06-2.06.94zm10 10l.94 2.06.94-2.06 2.06-.94-2.06-.94-.94-2.06-.94 2.06-2.06.94z\"/><path d=\"M17.41 7.96l-1.37-1.37c-.4-.4-.92-.59-1.43-.59-.52 0-1.04.2-1.43.59L10.3 9.45l-7.72 7.72c-.78.78-.78 2.05 0 2.83L4 21.41c.39.39.9.59 1.41.59.51 0 1.02-.2 1.41-.59l7.78-7.78 2.81-2.81c.8-.78.8-2.07 0-2.86zM5.41 20L4 18.59l7.72-7.72 1.47 1.35L5.41 20z\"/>\n",
       "  </svg>\n",
       "      </button>\n",
       "      \n",
       "  <style>\n",
       "    .colab-df-container {\n",
       "      display:flex;\n",
       "      flex-wrap:wrap;\n",
       "      gap: 12px;\n",
       "    }\n",
       "\n",
       "    .colab-df-convert {\n",
       "      background-color: #E8F0FE;\n",
       "      border: none;\n",
       "      border-radius: 50%;\n",
       "      cursor: pointer;\n",
       "      display: none;\n",
       "      fill: #1967D2;\n",
       "      height: 32px;\n",
       "      padding: 0 0 0 0;\n",
       "      width: 32px;\n",
       "    }\n",
       "\n",
       "    .colab-df-convert:hover {\n",
       "      background-color: #E2EBFA;\n",
       "      box-shadow: 0px 1px 2px rgba(60, 64, 67, 0.3), 0px 1px 3px 1px rgba(60, 64, 67, 0.15);\n",
       "      fill: #174EA6;\n",
       "    }\n",
       "\n",
       "    [theme=dark] .colab-df-convert {\n",
       "      background-color: #3B4455;\n",
       "      fill: #D2E3FC;\n",
       "    }\n",
       "\n",
       "    [theme=dark] .colab-df-convert:hover {\n",
       "      background-color: #434B5C;\n",
       "      box-shadow: 0px 1px 3px 1px rgba(0, 0, 0, 0.15);\n",
       "      filter: drop-shadow(0px 1px 2px rgba(0, 0, 0, 0.3));\n",
       "      fill: #FFFFFF;\n",
       "    }\n",
       "  </style>\n",
       "\n",
       "      <script>\n",
       "        const buttonEl =\n",
       "          document.querySelector('#df-6a795a1c-4564-4629-8f87-43567bafd7ce button.colab-df-convert');\n",
       "        buttonEl.style.display =\n",
       "          google.colab.kernel.accessAllowed ? 'block' : 'none';\n",
       "\n",
       "        async function convertToInteractive(key) {\n",
       "          const element = document.querySelector('#df-6a795a1c-4564-4629-8f87-43567bafd7ce');\n",
       "          const dataTable =\n",
       "            await google.colab.kernel.invokeFunction('convertToInteractive',\n",
       "                                                     [key], {});\n",
       "          if (!dataTable) return;\n",
       "\n",
       "          const docLinkHtml = 'Like what you see? Visit the ' +\n",
       "            '<a target=\"_blank\" href=https://colab.research.google.com/notebooks/data_table.ipynb>data table notebook</a>'\n",
       "            + ' to learn more about interactive tables.';\n",
       "          element.innerHTML = '';\n",
       "          dataTable['output_type'] = 'display_data';\n",
       "          await google.colab.output.renderOutput(dataTable, element);\n",
       "          const docLink = document.createElement('div');\n",
       "          docLink.innerHTML = docLinkHtml;\n",
       "          element.appendChild(docLink);\n",
       "        }\n",
       "      </script>\n",
       "    </div>\n",
       "  </div>\n",
       "  "
      ]
     },
     "metadata": {},
     "execution_count": 5
    }
   ],
   "source": [
    "data"
   ]
  },
  {
   "cell_type": "code",
   "execution_count": 6,
   "id": "87bbad06",
   "metadata": {
    "colab": {
     "base_uri": "https://localhost:8080/"
    },
    "id": "87bbad06",
    "outputId": "8c935ad0-a553-4d50-ee6c-cf40ea0c36cc"
   },
   "outputs": [
    {
     "output_type": "stream",
     "name": "stdout",
     "text": [
      "<class 'pandas.core.frame.DataFrame'>\n",
      "RangeIndex: 263015 entries, 0 to 263014\n",
      "Data columns (total 11 columns):\n",
      " #   Column                      Non-Null Count   Dtype  \n",
      "---  ------                      --------------   -----  \n",
      " 0   User_ID                     263015 non-null  int64  \n",
      " 1   Product_ID                  263014 non-null  object \n",
      " 2   Gender                      263014 non-null  object \n",
      " 3   Age                         263014 non-null  object \n",
      " 4   City_Category               263014 non-null  object \n",
      " 5   Stay_In_Current_City_Years  263014 non-null  object \n",
      " 6   Marital_Status              263014 non-null  float64\n",
      " 7   Product_Category_1          263014 non-null  float64\n",
      " 8   Product_Category_2          181501 non-null  float64\n",
      " 9   Product_Category_3          80582 non-null   float64\n",
      " 10  Purchase                    263014 non-null  float64\n",
      "dtypes: float64(5), int64(1), object(5)\n",
      "memory usage: 22.1+ MB\n"
     ]
    }
   ],
   "source": [
    "data.info()"
   ]
  },
  {
   "cell_type": "code",
   "execution_count": 7,
   "id": "51ea3b0a",
   "metadata": {
    "colab": {
     "base_uri": "https://localhost:8080/",
     "height": 250
    },
    "id": "51ea3b0a",
    "outputId": "a85cb90f-b0ce-4aaf-be35-6891995a756a"
   },
   "outputs": [
    {
     "output_type": "execute_result",
     "data": {
      "text/plain": [
       "   User_ID Product_ID Gender   Age City_Category Stay_In_Current_City_Years  \\\n",
       "0  1000001  P00069042      F  0-17             A                          2   \n",
       "1  1000001  P00248942      F  0-17             A                          2   \n",
       "2  1000001  P00087842      F  0-17             A                          2   \n",
       "3  1000001  P00085442      F  0-17             A                          2   \n",
       "4  1000002  P00285442      M   55+             C                         4+   \n",
       "\n",
       "   Marital_Status  Product_Category_1  Product_Category_2  Product_Category_3  \\\n",
       "0             0.0                 3.0                 NaN                 NaN   \n",
       "1             0.0                 1.0                 6.0                14.0   \n",
       "2             0.0                12.0                 NaN                 NaN   \n",
       "3             0.0                12.0                14.0                 NaN   \n",
       "4             0.0                 8.0                 NaN                 NaN   \n",
       "\n",
       "   Purchase  \n",
       "0    8370.0  \n",
       "1   15200.0  \n",
       "2    1422.0  \n",
       "3    1057.0  \n",
       "4    7969.0  "
      ],
      "text/html": [
       "\n",
       "  <div id=\"df-cba7ad42-2962-47cd-a309-4519678eb88b\">\n",
       "    <div class=\"colab-df-container\">\n",
       "      <div>\n",
       "<style scoped>\n",
       "    .dataframe tbody tr th:only-of-type {\n",
       "        vertical-align: middle;\n",
       "    }\n",
       "\n",
       "    .dataframe tbody tr th {\n",
       "        vertical-align: top;\n",
       "    }\n",
       "\n",
       "    .dataframe thead th {\n",
       "        text-align: right;\n",
       "    }\n",
       "</style>\n",
       "<table border=\"1\" class=\"dataframe\">\n",
       "  <thead>\n",
       "    <tr style=\"text-align: right;\">\n",
       "      <th></th>\n",
       "      <th>User_ID</th>\n",
       "      <th>Product_ID</th>\n",
       "      <th>Gender</th>\n",
       "      <th>Age</th>\n",
       "      <th>City_Category</th>\n",
       "      <th>Stay_In_Current_City_Years</th>\n",
       "      <th>Marital_Status</th>\n",
       "      <th>Product_Category_1</th>\n",
       "      <th>Product_Category_2</th>\n",
       "      <th>Product_Category_3</th>\n",
       "      <th>Purchase</th>\n",
       "    </tr>\n",
       "  </thead>\n",
       "  <tbody>\n",
       "    <tr>\n",
       "      <th>0</th>\n",
       "      <td>1000001</td>\n",
       "      <td>P00069042</td>\n",
       "      <td>F</td>\n",
       "      <td>0-17</td>\n",
       "      <td>A</td>\n",
       "      <td>2</td>\n",
       "      <td>0.0</td>\n",
       "      <td>3.0</td>\n",
       "      <td>NaN</td>\n",
       "      <td>NaN</td>\n",
       "      <td>8370.0</td>\n",
       "    </tr>\n",
       "    <tr>\n",
       "      <th>1</th>\n",
       "      <td>1000001</td>\n",
       "      <td>P00248942</td>\n",
       "      <td>F</td>\n",
       "      <td>0-17</td>\n",
       "      <td>A</td>\n",
       "      <td>2</td>\n",
       "      <td>0.0</td>\n",
       "      <td>1.0</td>\n",
       "      <td>6.0</td>\n",
       "      <td>14.0</td>\n",
       "      <td>15200.0</td>\n",
       "    </tr>\n",
       "    <tr>\n",
       "      <th>2</th>\n",
       "      <td>1000001</td>\n",
       "      <td>P00087842</td>\n",
       "      <td>F</td>\n",
       "      <td>0-17</td>\n",
       "      <td>A</td>\n",
       "      <td>2</td>\n",
       "      <td>0.0</td>\n",
       "      <td>12.0</td>\n",
       "      <td>NaN</td>\n",
       "      <td>NaN</td>\n",
       "      <td>1422.0</td>\n",
       "    </tr>\n",
       "    <tr>\n",
       "      <th>3</th>\n",
       "      <td>1000001</td>\n",
       "      <td>P00085442</td>\n",
       "      <td>F</td>\n",
       "      <td>0-17</td>\n",
       "      <td>A</td>\n",
       "      <td>2</td>\n",
       "      <td>0.0</td>\n",
       "      <td>12.0</td>\n",
       "      <td>14.0</td>\n",
       "      <td>NaN</td>\n",
       "      <td>1057.0</td>\n",
       "    </tr>\n",
       "    <tr>\n",
       "      <th>4</th>\n",
       "      <td>1000002</td>\n",
       "      <td>P00285442</td>\n",
       "      <td>M</td>\n",
       "      <td>55+</td>\n",
       "      <td>C</td>\n",
       "      <td>4+</td>\n",
       "      <td>0.0</td>\n",
       "      <td>8.0</td>\n",
       "      <td>NaN</td>\n",
       "      <td>NaN</td>\n",
       "      <td>7969.0</td>\n",
       "    </tr>\n",
       "  </tbody>\n",
       "</table>\n",
       "</div>\n",
       "      <button class=\"colab-df-convert\" onclick=\"convertToInteractive('df-cba7ad42-2962-47cd-a309-4519678eb88b')\"\n",
       "              title=\"Convert this dataframe to an interactive table.\"\n",
       "              style=\"display:none;\">\n",
       "        \n",
       "  <svg xmlns=\"http://www.w3.org/2000/svg\" height=\"24px\"viewBox=\"0 0 24 24\"\n",
       "       width=\"24px\">\n",
       "    <path d=\"M0 0h24v24H0V0z\" fill=\"none\"/>\n",
       "    <path d=\"M18.56 5.44l.94 2.06.94-2.06 2.06-.94-2.06-.94-.94-2.06-.94 2.06-2.06.94zm-11 1L8.5 8.5l.94-2.06 2.06-.94-2.06-.94L8.5 2.5l-.94 2.06-2.06.94zm10 10l.94 2.06.94-2.06 2.06-.94-2.06-.94-.94-2.06-.94 2.06-2.06.94z\"/><path d=\"M17.41 7.96l-1.37-1.37c-.4-.4-.92-.59-1.43-.59-.52 0-1.04.2-1.43.59L10.3 9.45l-7.72 7.72c-.78.78-.78 2.05 0 2.83L4 21.41c.39.39.9.59 1.41.59.51 0 1.02-.2 1.41-.59l7.78-7.78 2.81-2.81c.8-.78.8-2.07 0-2.86zM5.41 20L4 18.59l7.72-7.72 1.47 1.35L5.41 20z\"/>\n",
       "  </svg>\n",
       "      </button>\n",
       "      \n",
       "  <style>\n",
       "    .colab-df-container {\n",
       "      display:flex;\n",
       "      flex-wrap:wrap;\n",
       "      gap: 12px;\n",
       "    }\n",
       "\n",
       "    .colab-df-convert {\n",
       "      background-color: #E8F0FE;\n",
       "      border: none;\n",
       "      border-radius: 50%;\n",
       "      cursor: pointer;\n",
       "      display: none;\n",
       "      fill: #1967D2;\n",
       "      height: 32px;\n",
       "      padding: 0 0 0 0;\n",
       "      width: 32px;\n",
       "    }\n",
       "\n",
       "    .colab-df-convert:hover {\n",
       "      background-color: #E2EBFA;\n",
       "      box-shadow: 0px 1px 2px rgba(60, 64, 67, 0.3), 0px 1px 3px 1px rgba(60, 64, 67, 0.15);\n",
       "      fill: #174EA6;\n",
       "    }\n",
       "\n",
       "    [theme=dark] .colab-df-convert {\n",
       "      background-color: #3B4455;\n",
       "      fill: #D2E3FC;\n",
       "    }\n",
       "\n",
       "    [theme=dark] .colab-df-convert:hover {\n",
       "      background-color: #434B5C;\n",
       "      box-shadow: 0px 1px 3px 1px rgba(0, 0, 0, 0.15);\n",
       "      filter: drop-shadow(0px 1px 2px rgba(0, 0, 0, 0.3));\n",
       "      fill: #FFFFFF;\n",
       "    }\n",
       "  </style>\n",
       "\n",
       "      <script>\n",
       "        const buttonEl =\n",
       "          document.querySelector('#df-cba7ad42-2962-47cd-a309-4519678eb88b button.colab-df-convert');\n",
       "        buttonEl.style.display =\n",
       "          google.colab.kernel.accessAllowed ? 'block' : 'none';\n",
       "\n",
       "        async function convertToInteractive(key) {\n",
       "          const element = document.querySelector('#df-cba7ad42-2962-47cd-a309-4519678eb88b');\n",
       "          const dataTable =\n",
       "            await google.colab.kernel.invokeFunction('convertToInteractive',\n",
       "                                                     [key], {});\n",
       "          if (!dataTable) return;\n",
       "\n",
       "          const docLinkHtml = 'Like what you see? Visit the ' +\n",
       "            '<a target=\"_blank\" href=https://colab.research.google.com/notebooks/data_table.ipynb>data table notebook</a>'\n",
       "            + ' to learn more about interactive tables.';\n",
       "          element.innerHTML = '';\n",
       "          dataTable['output_type'] = 'display_data';\n",
       "          await google.colab.output.renderOutput(dataTable, element);\n",
       "          const docLink = document.createElement('div');\n",
       "          docLink.innerHTML = docLinkHtml;\n",
       "          element.appendChild(docLink);\n",
       "        }\n",
       "      </script>\n",
       "    </div>\n",
       "  </div>\n",
       "  "
      ]
     },
     "metadata": {},
     "execution_count": 7
    }
   ],
   "source": [
    "#print top 5 rows of the dataset\n",
    "data.head()"
   ]
  },
  {
   "cell_type": "code",
   "execution_count": 8,
   "id": "f6411921",
   "metadata": {
    "colab": {
     "base_uri": "https://localhost:8080/"
    },
    "id": "f6411921",
    "outputId": "bbe0aa85-fd51-46aa-90ba-a3b59c66fbc0"
   },
   "outputs": [
    {
     "output_type": "execute_result",
     "data": {
      "text/plain": [
       "Index(['User_ID', 'Product_ID', 'Gender', 'Age', 'City_Category',\n",
       "       'Stay_In_Current_City_Years', 'Marital_Status', 'Product_Category_1',\n",
       "       'Product_Category_2', 'Product_Category_3', 'Purchase'],\n",
       "      dtype='object')"
      ]
     },
     "metadata": {},
     "execution_count": 8
    }
   ],
   "source": [
    "#column names\n",
    "data.columns"
   ]
  },
  {
   "cell_type": "code",
   "id": "bd033d48",
   "metadata": {
    "id": "bd033d48",
    "ExecuteTime": {
     "end_time": "2024-07-16T06:56:38.610047Z",
     "start_time": "2024-07-16T06:56:38.390107Z"
    }
   },
   "source": [
    "#How to convert object to numerical data?\n",
    "#label encoding\n",
    "from sklearn.preprocessing import LabelEncoder"
   ],
   "outputs": [],
   "execution_count": 4
  },
  {
   "cell_type": "code",
   "execution_count": 10,
   "id": "95e57fa0",
   "metadata": {
    "colab": {
     "base_uri": "https://localhost:8080/"
    },
    "id": "95e57fa0",
    "outputId": "f8a2cf56-8e7c-4f9f-d5d0-4647ca7c81b5"
   },
   "outputs": [
    {
     "output_type": "execute_result",
     "data": {
      "text/plain": [
       "array(['2', '4+', '3', '1', '0', nan], dtype=object)"
      ]
     },
     "metadata": {},
     "execution_count": 10
    }
   ],
   "source": [
    "data['Stay_In_Current_City_Years'].unique()"
   ]
  },
  {
   "cell_type": "code",
   "execution_count": 11,
   "id": "66c5e31d",
   "metadata": {
    "id": "66c5e31d"
   },
   "outputs": [],
   "source": [
    "#Changing all values from 4+ to 4\n",
    "data['Stay_In_Current_City_Years'] = data['Stay_In_Current_City_Years'].replace('4+', '4')"
   ]
  },
  {
   "cell_type": "code",
   "execution_count": 12,
   "id": "c5c2b337",
   "metadata": {
    "colab": {
     "base_uri": "https://localhost:8080/"
    },
    "id": "c5c2b337",
    "outputId": "9fa34414-9f28-4719-d214-6815e3a9cfb1"
   },
   "outputs": [
    {
     "output_type": "execute_result",
     "data": {
      "text/plain": [
       "User_ID                            0\n",
       "Product_ID                         1\n",
       "Gender                             1\n",
       "Age                                1\n",
       "City_Category                      1\n",
       "Stay_In_Current_City_Years         1\n",
       "Marital_Status                     1\n",
       "Product_Category_1                 1\n",
       "Product_Category_2             81514\n",
       "Product_Category_3            182433\n",
       "Purchase                           1\n",
       "dtype: int64"
      ]
     },
     "metadata": {},
     "execution_count": 12
    }
   ],
   "source": [
    "#to check the null values\n",
    "data.isnull().sum()"
   ]
  },
  {
   "cell_type": "code",
   "execution_count": 13,
   "id": "0e9ce103",
   "metadata": {
    "id": "0e9ce103"
   },
   "outputs": [],
   "source": [
    "#changing the datatype to integer\n",
    "data.dropna(inplace=True)\n",
    "data['Stay_In_Current_City_Years'] = data['Stay_In_Current_City_Years'].astype(int)"
   ]
  },
  {
   "cell_type": "code",
   "execution_count": 14,
   "id": "90fbb286",
   "metadata": {
    "colab": {
     "base_uri": "https://localhost:8080/"
    },
    "id": "90fbb286",
    "outputId": "ee49439f-cd17-4a9c-81f0-beafe15969cc"
   },
   "outputs": [
    {
     "output_type": "stream",
     "name": "stdout",
     "text": [
      "<class 'pandas.core.frame.DataFrame'>\n",
      "Int64Index: 80582 entries, 1 to 263011\n",
      "Data columns (total 11 columns):\n",
      " #   Column                      Non-Null Count  Dtype  \n",
      "---  ------                      --------------  -----  \n",
      " 0   User_ID                     80582 non-null  int64  \n",
      " 1   Product_ID                  80582 non-null  object \n",
      " 2   Gender                      80582 non-null  object \n",
      " 3   Age                         80582 non-null  object \n",
      " 4   City_Category               80582 non-null  object \n",
      " 5   Stay_In_Current_City_Years  80582 non-null  int64  \n",
      " 6   Marital_Status              80582 non-null  float64\n",
      " 7   Product_Category_1          80582 non-null  float64\n",
      " 8   Product_Category_2          80582 non-null  float64\n",
      " 9   Product_Category_3          80582 non-null  float64\n",
      " 10  Purchase                    80582 non-null  float64\n",
      "dtypes: float64(5), int64(2), object(4)\n",
      "memory usage: 7.4+ MB\n"
     ]
    }
   ],
   "source": [
    "data.info()"
   ]
  },
  {
   "cell_type": "code",
   "execution_count": 15,
   "id": "6e36a79c",
   "metadata": {
    "colab": {
     "base_uri": "https://localhost:8080/"
    },
    "id": "6e36a79c",
    "outputId": "94cb2845-8f5b-4e38-c2a4-1431d430e626"
   },
   "outputs": [
    {
     "output_type": "execute_result",
     "data": {
      "text/plain": [
       "User_ID                       0\n",
       "Product_ID                    0\n",
       "Gender                        0\n",
       "Age                           0\n",
       "City_Category                 0\n",
       "Stay_In_Current_City_Years    0\n",
       "Marital_Status                0\n",
       "Product_Category_1            0\n",
       "Product_Category_2            0\n",
       "Product_Category_3            0\n",
       "Purchase                      0\n",
       "dtype: int64"
      ]
     },
     "metadata": {},
     "execution_count": 15
    }
   ],
   "source": [
    "data.isnull().sum()"
   ]
  },
  {
   "cell_type": "code",
   "execution_count": 16,
   "id": "c1bd503b",
   "metadata": {
    "colab": {
     "base_uri": "https://localhost:8080/",
     "height": 300
    },
    "id": "c1bd503b",
    "outputId": "72c68d37-24b8-44ff-d382-853675767d48"
   },
   "outputs": [
    {
     "output_type": "execute_result",
     "data": {
      "text/plain": [
       "            User_ID  Stay_In_Current_City_Years  Marital_Status  \\\n",
       "count  8.058200e+04                80582.000000    80582.000000   \n",
       "mean   1.002950e+06                    1.860775        0.401752   \n",
       "std    1.706623e+03                    1.285501        0.490255   \n",
       "min    1.000001e+06                    0.000000        0.000000   \n",
       "25%    1.001470e+06                    1.000000        0.000000   \n",
       "50%    1.002996e+06                    2.000000        0.000000   \n",
       "75%    1.004326e+06                    3.000000        1.000000   \n",
       "max    1.006040e+06                    4.000000        1.000000   \n",
       "\n",
       "       Product_Category_1  Product_Category_2  Product_Category_3  \\\n",
       "count        80582.000000        80582.000000        80582.000000   \n",
       "mean             2.738366            6.892085           12.658298   \n",
       "std              2.563225            4.498417            4.129156   \n",
       "min              1.000000            2.000000            3.000000   \n",
       "25%              1.000000            2.000000            9.000000   \n",
       "50%              1.000000            6.000000           14.000000   \n",
       "75%              4.000000           10.000000           16.000000   \n",
       "max             15.000000           16.000000           18.000000   \n",
       "\n",
       "           Purchase  \n",
       "count  80582.000000  \n",
       "mean   11628.183279  \n",
       "std     5069.515441  \n",
       "min      186.000000  \n",
       "25%     7868.000000  \n",
       "50%    11744.500000  \n",
       "75%    15610.000000  \n",
       "max    23958.000000  "
      ],
      "text/html": [
       "\n",
       "  <div id=\"df-79d15220-bf1c-43fc-a163-9f1f4614c74e\">\n",
       "    <div class=\"colab-df-container\">\n",
       "      <div>\n",
       "<style scoped>\n",
       "    .dataframe tbody tr th:only-of-type {\n",
       "        vertical-align: middle;\n",
       "    }\n",
       "\n",
       "    .dataframe tbody tr th {\n",
       "        vertical-align: top;\n",
       "    }\n",
       "\n",
       "    .dataframe thead th {\n",
       "        text-align: right;\n",
       "    }\n",
       "</style>\n",
       "<table border=\"1\" class=\"dataframe\">\n",
       "  <thead>\n",
       "    <tr style=\"text-align: right;\">\n",
       "      <th></th>\n",
       "      <th>User_ID</th>\n",
       "      <th>Stay_In_Current_City_Years</th>\n",
       "      <th>Marital_Status</th>\n",
       "      <th>Product_Category_1</th>\n",
       "      <th>Product_Category_2</th>\n",
       "      <th>Product_Category_3</th>\n",
       "      <th>Purchase</th>\n",
       "    </tr>\n",
       "  </thead>\n",
       "  <tbody>\n",
       "    <tr>\n",
       "      <th>count</th>\n",
       "      <td>8.058200e+04</td>\n",
       "      <td>80582.000000</td>\n",
       "      <td>80582.000000</td>\n",
       "      <td>80582.000000</td>\n",
       "      <td>80582.000000</td>\n",
       "      <td>80582.000000</td>\n",
       "      <td>80582.000000</td>\n",
       "    </tr>\n",
       "    <tr>\n",
       "      <th>mean</th>\n",
       "      <td>1.002950e+06</td>\n",
       "      <td>1.860775</td>\n",
       "      <td>0.401752</td>\n",
       "      <td>2.738366</td>\n",
       "      <td>6.892085</td>\n",
       "      <td>12.658298</td>\n",
       "      <td>11628.183279</td>\n",
       "    </tr>\n",
       "    <tr>\n",
       "      <th>std</th>\n",
       "      <td>1.706623e+03</td>\n",
       "      <td>1.285501</td>\n",
       "      <td>0.490255</td>\n",
       "      <td>2.563225</td>\n",
       "      <td>4.498417</td>\n",
       "      <td>4.129156</td>\n",
       "      <td>5069.515441</td>\n",
       "    </tr>\n",
       "    <tr>\n",
       "      <th>min</th>\n",
       "      <td>1.000001e+06</td>\n",
       "      <td>0.000000</td>\n",
       "      <td>0.000000</td>\n",
       "      <td>1.000000</td>\n",
       "      <td>2.000000</td>\n",
       "      <td>3.000000</td>\n",
       "      <td>186.000000</td>\n",
       "    </tr>\n",
       "    <tr>\n",
       "      <th>25%</th>\n",
       "      <td>1.001470e+06</td>\n",
       "      <td>1.000000</td>\n",
       "      <td>0.000000</td>\n",
       "      <td>1.000000</td>\n",
       "      <td>2.000000</td>\n",
       "      <td>9.000000</td>\n",
       "      <td>7868.000000</td>\n",
       "    </tr>\n",
       "    <tr>\n",
       "      <th>50%</th>\n",
       "      <td>1.002996e+06</td>\n",
       "      <td>2.000000</td>\n",
       "      <td>0.000000</td>\n",
       "      <td>1.000000</td>\n",
       "      <td>6.000000</td>\n",
       "      <td>14.000000</td>\n",
       "      <td>11744.500000</td>\n",
       "    </tr>\n",
       "    <tr>\n",
       "      <th>75%</th>\n",
       "      <td>1.004326e+06</td>\n",
       "      <td>3.000000</td>\n",
       "      <td>1.000000</td>\n",
       "      <td>4.000000</td>\n",
       "      <td>10.000000</td>\n",
       "      <td>16.000000</td>\n",
       "      <td>15610.000000</td>\n",
       "    </tr>\n",
       "    <tr>\n",
       "      <th>max</th>\n",
       "      <td>1.006040e+06</td>\n",
       "      <td>4.000000</td>\n",
       "      <td>1.000000</td>\n",
       "      <td>15.000000</td>\n",
       "      <td>16.000000</td>\n",
       "      <td>18.000000</td>\n",
       "      <td>23958.000000</td>\n",
       "    </tr>\n",
       "  </tbody>\n",
       "</table>\n",
       "</div>\n",
       "      <button class=\"colab-df-convert\" onclick=\"convertToInteractive('df-79d15220-bf1c-43fc-a163-9f1f4614c74e')\"\n",
       "              title=\"Convert this dataframe to an interactive table.\"\n",
       "              style=\"display:none;\">\n",
       "        \n",
       "  <svg xmlns=\"http://www.w3.org/2000/svg\" height=\"24px\"viewBox=\"0 0 24 24\"\n",
       "       width=\"24px\">\n",
       "    <path d=\"M0 0h24v24H0V0z\" fill=\"none\"/>\n",
       "    <path d=\"M18.56 5.44l.94 2.06.94-2.06 2.06-.94-2.06-.94-.94-2.06-.94 2.06-2.06.94zm-11 1L8.5 8.5l.94-2.06 2.06-.94-2.06-.94L8.5 2.5l-.94 2.06-2.06.94zm10 10l.94 2.06.94-2.06 2.06-.94-2.06-.94-.94-2.06-.94 2.06-2.06.94z\"/><path d=\"M17.41 7.96l-1.37-1.37c-.4-.4-.92-.59-1.43-.59-.52 0-1.04.2-1.43.59L10.3 9.45l-7.72 7.72c-.78.78-.78 2.05 0 2.83L4 21.41c.39.39.9.59 1.41.59.51 0 1.02-.2 1.41-.59l7.78-7.78 2.81-2.81c.8-.78.8-2.07 0-2.86zM5.41 20L4 18.59l7.72-7.72 1.47 1.35L5.41 20z\"/>\n",
       "  </svg>\n",
       "      </button>\n",
       "      \n",
       "  <style>\n",
       "    .colab-df-container {\n",
       "      display:flex;\n",
       "      flex-wrap:wrap;\n",
       "      gap: 12px;\n",
       "    }\n",
       "\n",
       "    .colab-df-convert {\n",
       "      background-color: #E8F0FE;\n",
       "      border: none;\n",
       "      border-radius: 50%;\n",
       "      cursor: pointer;\n",
       "      display: none;\n",
       "      fill: #1967D2;\n",
       "      height: 32px;\n",
       "      padding: 0 0 0 0;\n",
       "      width: 32px;\n",
       "    }\n",
       "\n",
       "    .colab-df-convert:hover {\n",
       "      background-color: #E2EBFA;\n",
       "      box-shadow: 0px 1px 2px rgba(60, 64, 67, 0.3), 0px 1px 3px 1px rgba(60, 64, 67, 0.15);\n",
       "      fill: #174EA6;\n",
       "    }\n",
       "\n",
       "    [theme=dark] .colab-df-convert {\n",
       "      background-color: #3B4455;\n",
       "      fill: #D2E3FC;\n",
       "    }\n",
       "\n",
       "    [theme=dark] .colab-df-convert:hover {\n",
       "      background-color: #434B5C;\n",
       "      box-shadow: 0px 1px 3px 1px rgba(0, 0, 0, 0.15);\n",
       "      filter: drop-shadow(0px 1px 2px rgba(0, 0, 0, 0.3));\n",
       "      fill: #FFFFFF;\n",
       "    }\n",
       "  </style>\n",
       "\n",
       "      <script>\n",
       "        const buttonEl =\n",
       "          document.querySelector('#df-79d15220-bf1c-43fc-a163-9f1f4614c74e button.colab-df-convert');\n",
       "        buttonEl.style.display =\n",
       "          google.colab.kernel.accessAllowed ? 'block' : 'none';\n",
       "\n",
       "        async function convertToInteractive(key) {\n",
       "          const element = document.querySelector('#df-79d15220-bf1c-43fc-a163-9f1f4614c74e');\n",
       "          const dataTable =\n",
       "            await google.colab.kernel.invokeFunction('convertToInteractive',\n",
       "                                                     [key], {});\n",
       "          if (!dataTable) return;\n",
       "\n",
       "          const docLinkHtml = 'Like what you see? Visit the ' +\n",
       "            '<a target=\"_blank\" href=https://colab.research.google.com/notebooks/data_table.ipynb>data table notebook</a>'\n",
       "            + ' to learn more about interactive tables.';\n",
       "          element.innerHTML = '';\n",
       "          dataTable['output_type'] = 'display_data';\n",
       "          await google.colab.output.renderOutput(dataTable, element);\n",
       "          const docLink = document.createElement('div');\n",
       "          docLink.innerHTML = docLinkHtml;\n",
       "          element.appendChild(docLink);\n",
       "        }\n",
       "      </script>\n",
       "    </div>\n",
       "  </div>\n",
       "  "
      ]
     },
     "metadata": {},
     "execution_count": 16
    }
   ],
   "source": [
    "data.describe()"
   ]
  },
  {
   "cell_type": "code",
   "execution_count": 17,
   "id": "0886ca7f",
   "metadata": {
    "colab": {
     "base_uri": "https://localhost:8080/"
    },
    "id": "0886ca7f",
    "outputId": "577db4bc-a368-48e9-fb1a-ef7b8932bc30"
   },
   "outputs": [
    {
     "output_type": "execute_result",
     "data": {
      "text/plain": [
       "Index(['User_ID', 'Product_ID', 'Gender', 'Age', 'City_Category',\n",
       "       'Stay_In_Current_City_Years', 'Marital_Status', 'Product_Category_1',\n",
       "       'Product_Category_2', 'Product_Category_3', 'Purchase'],\n",
       "      dtype='object')"
      ]
     },
     "metadata": {},
     "execution_count": 17
    }
   ],
   "source": [
    "data.columns"
   ]
  },
  {
   "cell_type": "code",
   "execution_count": 18,
   "id": "ec696641",
   "metadata": {
    "colab": {
     "base_uri": "https://localhost:8080/",
     "height": 387
    },
    "id": "ec696641",
    "outputId": "880889cd-8026-4e39-ab42-7ce6f6fc713e"
   },
   "outputs": [
    {
     "output_type": "execute_result",
     "data": {
      "text/plain": [
       "<seaborn.axisgrid.FacetGrid at 0x7fc95e941cd0>"
      ]
     },
     "metadata": {},
     "execution_count": 18
    },
    {
     "output_type": "display_data",
     "data": {
      "text/plain": [
       "<Figure size 360x360 with 1 Axes>"
      ],
      "image/png": "[encoded data removed]"
     },
     "metadata": {
      "needs_background": "light"
     }
    }
   ],
   "source": [
    "#visualizations to understand the distribution of the various features\n",
    "sns.catplot(data = data, x=\"Gender\", y='User_ID', kind='bar')"
   ]
  },
  {
   "cell_type": "code",
   "execution_count": 19,
   "id": "b839cf23",
   "metadata": {
    "colab": {
     "base_uri": "https://localhost:8080/",
     "height": 387
    },
    "id": "b839cf23",
    "outputId": "690564c1-f9bd-4132-c9d3-eb96e14de0e7"
   },
   "outputs": [
    {
     "output_type": "execute_result",
     "data": {
      "text/plain": [
       "<seaborn.axisgrid.FacetGrid at 0x7fc95e785e50>"
      ]
     },
     "metadata": {},
     "execution_count": 19
    },
    {
     "output_type": "display_data",
     "data": {
      "text/plain": [
       "<Figure size 360x360 with 1 Axes>"
      ],
      "image/png": "[encoded data removed]"
     },
     "metadata": {
      "needs_background": "light"
     }
    }
   ],
   "source": [
    "sns.catplot(data=data, x=\"Age\", y=\"User_ID\", kind=\"bar\")"
   ]
  },
  {
   "cell_type": "code",
   "execution_count": 20,
   "id": "0209845d",
   "metadata": {
    "colab": {
     "base_uri": "https://localhost:8080/",
     "height": 387
    },
    "id": "0209845d",
    "outputId": "c941b78b-f58b-4085-e071-cbd36d4dc84e"
   },
   "outputs": [
    {
     "output_type": "execute_result",
     "data": {
      "text/plain": [
       "<seaborn.axisgrid.FacetGrid at 0x7fc95e669b80>"
      ]
     },
     "metadata": {},
     "execution_count": 20
    },
    {
     "output_type": "display_data",
     "data": {
      "text/plain": [
       "<Figure size 404.875x360 with 1 Axes>"
      ],
      "image/png": "[encoded data removed]"
     },
     "metadata": {
      "needs_background": "light"
     }
    }
   ],
   "source": [
    "sns.catplot(data=data, x=\"Age\", y=\"User_ID\", kind=\"bar\", hue='Gender')"
   ]
  },
  {
   "cell_type": "code",
   "execution_count": 21,
   "id": "74ef0b78",
   "metadata": {
    "colab": {
     "base_uri": "https://localhost:8080/",
     "height": 387
    },
    "id": "74ef0b78",
    "outputId": "019584d9-b914-42eb-b2b2-d760cc5d9697"
   },
   "outputs": [
    {
     "output_type": "execute_result",
     "data": {
      "text/plain": [
       "<seaborn.axisgrid.FacetGrid at 0x7fc95e678d00>"
      ]
     },
     "metadata": {},
     "execution_count": 21
    },
    {
     "output_type": "display_data",
     "data": {
      "text/plain": [
       "<Figure size 404.875x360 with 1 Axes>"
      ],
      "image/png": "[encoded data removed]"
     },
     "metadata": {
      "needs_background": "light"
     }
    }
   ],
   "source": [
    "sns.catplot(data=data, x=\"Marital_Status\", y='User_ID', hue=\"Gender\", kind=\"bar\")"
   ]
  },
  {
   "cell_type": "code",
   "execution_count": 22,
   "id": "d206275a",
   "metadata": {
    "colab": {
     "base_uri": "https://localhost:8080/"
    },
    "id": "d206275a",
    "outputId": "9bbd9ed3-3ba7-4a68-ed61-d66d15820812"
   },
   "outputs": [
    {
     "output_type": "execute_result",
     "data": {
      "text/plain": [
       "Index(['User_ID', 'Product_ID', 'Gender', 'Age', 'City_Category',\n",
       "       'Stay_In_Current_City_Years', 'Marital_Status', 'Product_Category_1',\n",
       "       'Product_Category_2', 'Product_Category_3', 'Purchase'],\n",
       "      dtype='object')"
      ]
     },
     "metadata": {},
     "execution_count": 22
    }
   ],
   "source": [
    "data.columns"
   ]
  },
  {
   "cell_type": "code",
   "execution_count": 23,
   "id": "06f3fbf9",
   "metadata": {
    "colab": {
     "base_uri": "https://localhost:8080/",
     "height": 409
    },
    "id": "06f3fbf9",
    "outputId": "bbe445f1-8837-4d19-d359-14adb85e5c48"
   },
   "outputs": [
    {
     "output_type": "stream",
     "name": "stderr",
     "text": [
      "/usr/local/lib/python3.8/dist-packages/seaborn/_decorators.py:36: FutureWarning: Pass the following variable as a keyword arg: x. From version 0.12, the only valid positional argument will be `data`, and passing other arguments without an explicit keyword will result in an error or misinterpretation.\n",
      "  warnings.warn(\n"
     ]
    },
    {
     "output_type": "execute_result",
     "data": {
      "text/plain": [
       "<AxesSubplot:xlabel='Product_Category_1', ylabel='count'>"
      ]
     },
     "metadata": {},
     "execution_count": 23
    },
    {
     "output_type": "display_data",
     "data": {
      "text/plain": [
       "<Figure size 720x360 with 1 Axes>"
      ],
      "image/png": "[encoded data removed]"
     },
     "metadata": {
      "needs_background": "light"
     }
    }
   ],
   "source": [
    "plt.figure(figsize=(10,5))\n",
    "sns.countplot(data['Product_Category_1']) #its frequency of unique value"
   ]
  },
  {
   "cell_type": "code",
   "execution_count": 24,
   "id": "fc58c394",
   "metadata": {
    "id": "fc58c394"
   },
   "outputs": [],
   "source": [
    "### The product_category_1 sees a great rise of product category 1 and lowest in 12th category"
   ]
  },
  {
   "cell_type": "code",
   "execution_count": 25,
   "id": "c7f80aa4",
   "metadata": {
    "colab": {
     "base_uri": "https://localhost:8080/",
     "height": 409
    },
    "id": "c7f80aa4",
    "outputId": "43c458cb-4cf5-40e8-e6b4-1ca3adf73044"
   },
   "outputs": [
    {
     "output_type": "stream",
     "name": "stderr",
     "text": [
      "/usr/local/lib/python3.8/dist-packages/seaborn/_decorators.py:36: FutureWarning: Pass the following variable as a keyword arg: x. From version 0.12, the only valid positional argument will be `data`, and passing other arguments without an explicit keyword will result in an error or misinterpretation.\n",
      "  warnings.warn(\n"
     ]
    },
    {
     "output_type": "execute_result",
     "data": {
      "text/plain": [
       "<AxesSubplot:xlabel='Product_Category_2', ylabel='count'>"
      ]
     },
     "metadata": {},
     "execution_count": 25
    },
    {
     "output_type": "display_data",
     "data": {
      "text/plain": [
       "<Figure size 720x360 with 1 Axes>"
      ],
      "image/png": "[encoded data removed]"
     },
     "metadata": {
      "needs_background": "light"
     }
    }
   ],
   "source": [
    "plt.figure(figsize=(10,5))\n",
    "sns.countplot(data['Product_Category_2'])"
   ]
  },
  {
   "cell_type": "code",
   "execution_count": 26,
   "id": "670ee792",
   "metadata": {
    "id": "670ee792"
   },
   "outputs": [],
   "source": [
    "# Product_Category_2 sees a considerate balance among categories. \n",
    "#With category 2 topping the charts, and other considerable categories are 8,,4,5,6,14,15,etc."
   ]
  },
  {
   "cell_type": "code",
   "execution_count": 27,
   "id": "3f7d5c35",
   "metadata": {
    "colab": {
     "base_uri": "https://localhost:8080/",
     "height": 409
    },
    "id": "3f7d5c35",
    "outputId": "5c07f21a-c44d-4bad-b9ad-0acd6fbc5b8b"
   },
   "outputs": [
    {
     "output_type": "stream",
     "name": "stderr",
     "text": [
      "/usr/local/lib/python3.8/dist-packages/seaborn/_decorators.py:36: FutureWarning: Pass the following variable as a keyword arg: x. From version 0.12, the only valid positional argument will be `data`, and passing other arguments without an explicit keyword will result in an error or misinterpretation.\n",
      "  warnings.warn(\n"
     ]
    },
    {
     "output_type": "execute_result",
     "data": {
      "text/plain": [
       "<AxesSubplot:xlabel='Product_Category_3', ylabel='count'>"
      ]
     },
     "metadata": {},
     "execution_count": 27
    },
    {
     "output_type": "display_data",
     "data": {
      "text/plain": [
       "<Figure size 720x360 with 1 Axes>"
      ],
      "image/png": "[encoded data removed]"
     },
     "metadata": {
      "needs_background": "light"
     }
    }
   ],
   "source": [
    "plt.figure(figsize=(10,5))\n",
    "sns.countplot(data['Product_Category_3'])"
   ]
  },
  {
   "cell_type": "code",
   "execution_count": 28,
   "id": "cb4dc4bc",
   "metadata": {
    "id": "cb4dc4bc"
   },
   "outputs": [],
   "source": [
    "# For product_category_3, the balance is towards the end with 16 topping the charts, \n",
    "#and other considerable categories are 15, 14, 5, 8, 9, 17, etc."
   ]
  },
  {
   "cell_type": "code",
   "execution_count": 36,
   "id": "7598a0a9",
   "metadata": {
    "colab": {
     "base_uri": "https://localhost:8080/",
     "height": 409
    },
    "id": "7598a0a9",
    "outputId": "8feb6e8b-e570-4196-e86c-2a983ee7f8a7"
   },
   "outputs": [
    {
     "output_type": "stream",
     "name": "stderr",
     "text": [
      "/usr/local/lib/python3.8/dist-packages/seaborn/_decorators.py:36: FutureWarning: Pass the following variable as a keyword arg: x. From version 0.12, the only valid positional argument will be `data`, and passing other arguments without an explicit keyword will result in an error or misinterpretation.\n",
      "  warnings.warn(\n"
     ]
    },
    {
     "output_type": "execute_result",
     "data": {
      "text/plain": [
       "<AxesSubplot:xlabel='Stay_In_Current_City_Years', ylabel='count'>"
      ]
     },
     "metadata": {},
     "execution_count": 36
    },
    {
     "output_type": "display_data",
     "data": {
      "text/plain": [
       "<Figure size 720x360 with 1 Axes>"
      ],
      "image/png": "[encoded data removed]"
     },
     "metadata": {
      "needs_background": "light"
     }
    }
   ],
   "source": [
    "plt.figure(figsize=(10,5))\n",
    "sns.countplot(data['Stay_In_Current_City_Years'])"
   ]
  },
  {
   "cell_type": "code",
   "execution_count": 37,
   "id": "5b807906",
   "metadata": {
    "id": "5b807906"
   },
   "outputs": [],
   "source": [
    "### Majority of the customers have stayed a year in the city."
   ]
  },
  {
   "cell_type": "code",
   "execution_count": 38,
   "id": "ca2f0185",
   "metadata": {
    "colab": {
     "base_uri": "https://localhost:8080/",
     "height": 356
    },
    "id": "ca2f0185",
    "outputId": "7f8057c1-5875-4c24-e6dc-051df76704ed"
   },
   "outputs": [
    {
     "output_type": "stream",
     "name": "stderr",
     "text": [
      "/usr/local/lib/python3.8/dist-packages/seaborn/distributions.py:2619: FutureWarning: `distplot` is a deprecated function and will be removed in a future version. Please adapt your code to use either `displot` (a figure-level function with similar flexibility) or `histplot` (an axes-level function for histograms).\n",
      "  warnings.warn(msg, FutureWarning)\n"
     ]
    },
    {
     "output_type": "execute_result",
     "data": {
      "text/plain": [
       "<AxesSubplot:xlabel='Purchase', ylabel='Density'>"
      ]
     },
     "metadata": {},
     "execution_count": 38
    },
    {
     "output_type": "display_data",
     "data": {
      "text/plain": [
       "<Figure size 432x288 with 1 Axes>"
      ],
      "image/png": "[encoded data removed]"
     },
     "metadata": {
      "needs_background": "light"
     }
    }
   ],
   "source": [
    "sns.distplot(data['Purchase'])"
   ]
  },
  {
   "cell_type": "code",
   "execution_count": 39,
   "id": "12c162fe",
   "metadata": {
    "id": "12c162fe"
   },
   "outputs": [],
   "source": [
    "#Purchases are not accumulated in a range, rather varies in different intervals"
   ]
  },
  {
   "cell_type": "code",
   "id": "4888a4d8",
   "metadata": {
    "colab": {
     "base_uri": "https://localhost:8080/"
    },
    "id": "4888a4d8",
    "outputId": "444510e7-ec78-4a39-d483-f65213818dcf",
    "ExecuteTime": {
     "end_time": "2024-07-16T06:57:11.438909Z",
     "start_time": "2024-07-16T06:57:11.269491Z"
    }
   },
   "source": [
    "#label encoding to convert categorical to numerical columns\n",
    "from sklearn.preprocessing import LabelEncoder\n",
    "le = LabelEncoder()\n",
    "\n",
    "col_list = ['User_ID', \"Product_ID\", \"Gender\",'Age', 'City_Category']\n",
    "\n",
    "for col in col_list:\n",
    "    data[col] = le.fit_transform(data[col])\n",
    "    print(col, le.classes_)"
   ],
   "outputs": [
    {
     "name": "stdout",
     "output_type": "stream",
     "text": [
      "User_ID [1000001 1000002 1000003 ... 1006038 1006039 1006040]\n",
      "Product_ID ['P00000142' 'P00000242' 'P00000342' ... 'P0099742' 'P0099842' 'P0099942']\n",
      "Gender ['F' 'M']\n",
      "Age ['0-17' '18-25' '26-35' '36-45' '46-50' '51-55' '55+']\n",
      "City_Category ['A' 'B' 'C']\n"
     ]
    }
   ],
   "execution_count": 5
  },
  {
   "cell_type": "code",
   "execution_count": 41,
   "id": "23ae5270",
   "metadata": {
    "colab": {
     "base_uri": "https://localhost:8080/",
     "height": 250
    },
    "id": "23ae5270",
    "outputId": "e3e265cc-4134-4982-86d6-2d7a1e63b0af"
   },
   "outputs": [
    {
     "output_type": "execute_result",
     "data": {
      "text/plain": [
       "    User_ID  Product_ID  Gender  Age  City_Category  \\\n",
       "1         0         391       0    0              0   \n",
       "6         3         284       1    4              1   \n",
       "13        4         211       1    2              0   \n",
       "14        5         363       0    5              0   \n",
       "16        5         517       0    5              0   \n",
       "\n",
       "    Stay_In_Current_City_Years  Marital_Status  Product_Category_1  \\\n",
       "1                            2             0.0                 1.0   \n",
       "6                            2             1.0                 1.0   \n",
       "13                           1             1.0                 1.0   \n",
       "14                           1             0.0                 5.0   \n",
       "16                           1             0.0                 2.0   \n",
       "\n",
       "    Product_Category_2  Product_Category_3  Purchase  \n",
       "1                  6.0                14.0   15200.0  \n",
       "6                  8.0                17.0   19215.0  \n",
       "13                 2.0                 5.0   15665.0  \n",
       "14                 8.0                14.0    5378.0  \n",
       "16                 3.0                 4.0   13055.0  "
      ],
      "text/html": [
       "\n",
       "  <div id=\"df-44917366-beee-4622-9706-d09b297439c3\">\n",
       "    <div class=\"colab-df-container\">\n",
       "      <div>\n",
       "<style scoped>\n",
       "    .dataframe tbody tr th:only-of-type {\n",
       "        vertical-align: middle;\n",
       "    }\n",
       "\n",
       "    .dataframe tbody tr th {\n",
       "        vertical-align: top;\n",
       "    }\n",
       "\n",
       "    .dataframe thead th {\n",
       "        text-align: right;\n",
       "    }\n",
       "</style>\n",
       "<table border=\"1\" class=\"dataframe\">\n",
       "  <thead>\n",
       "    <tr style=\"text-align: right;\">\n",
       "      <th></th>\n",
       "      <th>User_ID</th>\n",
       "      <th>Product_ID</th>\n",
       "      <th>Gender</th>\n",
       "      <th>Age</th>\n",
       "      <th>City_Category</th>\n",
       "      <th>Stay_In_Current_City_Years</th>\n",
       "      <th>Marital_Status</th>\n",
       "      <th>Product_Category_1</th>\n",
       "      <th>Product_Category_2</th>\n",
       "      <th>Product_Category_3</th>\n",
       "      <th>Purchase</th>\n",
       "    </tr>\n",
       "  </thead>\n",
       "  <tbody>\n",
       "    <tr>\n",
       "      <th>1</th>\n",
       "      <td>0</td>\n",
       "      <td>391</td>\n",
       "      <td>0</td>\n",
       "      <td>0</td>\n",
       "      <td>0</td>\n",
       "      <td>2</td>\n",
       "      <td>0.0</td>\n",
       "      <td>1.0</td>\n",
       "      <td>6.0</td>\n",
       "      <td>14.0</td>\n",
       "      <td>15200.0</td>\n",
       "    </tr>\n",
       "    <tr>\n",
       "      <th>6</th>\n",
       "      <td>3</td>\n",
       "      <td>284</td>\n",
       "      <td>1</td>\n",
       "      <td>4</td>\n",
       "      <td>1</td>\n",
       "      <td>2</td>\n",
       "      <td>1.0</td>\n",
       "      <td>1.0</td>\n",
       "      <td>8.0</td>\n",
       "      <td>17.0</td>\n",
       "      <td>19215.0</td>\n",
       "    </tr>\n",
       "    <tr>\n",
       "      <th>13</th>\n",
       "      <td>4</td>\n",
       "      <td>211</td>\n",
       "      <td>1</td>\n",
       "      <td>2</td>\n",
       "      <td>0</td>\n",
       "      <td>1</td>\n",
       "      <td>1.0</td>\n",
       "      <td>1.0</td>\n",
       "      <td>2.0</td>\n",
       "      <td>5.0</td>\n",
       "      <td>15665.0</td>\n",
       "    </tr>\n",
       "    <tr>\n",
       "      <th>14</th>\n",
       "      <td>5</td>\n",
       "      <td>363</td>\n",
       "      <td>0</td>\n",
       "      <td>5</td>\n",
       "      <td>0</td>\n",
       "      <td>1</td>\n",
       "      <td>0.0</td>\n",
       "      <td>5.0</td>\n",
       "      <td>8.0</td>\n",
       "      <td>14.0</td>\n",
       "      <td>5378.0</td>\n",
       "    </tr>\n",
       "    <tr>\n",
       "      <th>16</th>\n",
       "      <td>5</td>\n",
       "      <td>517</td>\n",
       "      <td>0</td>\n",
       "      <td>5</td>\n",
       "      <td>0</td>\n",
       "      <td>1</td>\n",
       "      <td>0.0</td>\n",
       "      <td>2.0</td>\n",
       "      <td>3.0</td>\n",
       "      <td>4.0</td>\n",
       "      <td>13055.0</td>\n",
       "    </tr>\n",
       "  </tbody>\n",
       "</table>\n",
       "</div>\n",
       "      <button class=\"colab-df-convert\" onclick=\"convertToInteractive('df-44917366-beee-4622-9706-d09b297439c3')\"\n",
       "              title=\"Convert this dataframe to an interactive table.\"\n",
       "              style=\"display:none;\">\n",
       "        \n",
       "  <svg xmlns=\"http://www.w3.org/2000/svg\" height=\"24px\"viewBox=\"0 0 24 24\"\n",
       "       width=\"24px\">\n",
       "    <path d=\"M0 0h24v24H0V0z\" fill=\"none\"/>\n",
       "    <path d=\"M18.56 5.44l.94 2.06.94-2.06 2.06-.94-2.06-.94-.94-2.06-.94 2.06-2.06.94zm-11 1L8.5 8.5l.94-2.06 2.06-.94-2.06-.94L8.5 2.5l-.94 2.06-2.06.94zm10 10l.94 2.06.94-2.06 2.06-.94-2.06-.94-.94-2.06-.94 2.06-2.06.94z\"/><path d=\"M17.41 7.96l-1.37-1.37c-.4-.4-.92-.59-1.43-.59-.52 0-1.04.2-1.43.59L10.3 9.45l-7.72 7.72c-.78.78-.78 2.05 0 2.83L4 21.41c.39.39.9.59 1.41.59.51 0 1.02-.2 1.41-.59l7.78-7.78 2.81-2.81c.8-.78.8-2.07 0-2.86zM5.41 20L4 18.59l7.72-7.72 1.47 1.35L5.41 20z\"/>\n",
       "  </svg>\n",
       "      </button>\n",
       "      \n",
       "  <style>\n",
       "    .colab-df-container {\n",
       "      display:flex;\n",
       "      flex-wrap:wrap;\n",
       "      gap: 12px;\n",
       "    }\n",
       "\n",
       "    .colab-df-convert {\n",
       "      background-color: #E8F0FE;\n",
       "      border: none;\n",
       "      border-radius: 50%;\n",
       "      cursor: pointer;\n",
       "      display: none;\n",
       "      fill: #1967D2;\n",
       "      height: 32px;\n",
       "      padding: 0 0 0 0;\n",
       "      width: 32px;\n",
       "    }\n",
       "\n",
       "    .colab-df-convert:hover {\n",
       "      background-color: #E2EBFA;\n",
       "      box-shadow: 0px 1px 2px rgba(60, 64, 67, 0.3), 0px 1px 3px 1px rgba(60, 64, 67, 0.15);\n",
       "      fill: #174EA6;\n",
       "    }\n",
       "\n",
       "    [theme=dark] .colab-df-convert {\n",
       "      background-color: #3B4455;\n",
       "      fill: #D2E3FC;\n",
       "    }\n",
       "\n",
       "    [theme=dark] .colab-df-convert:hover {\n",
       "      background-color: #434B5C;\n",
       "      box-shadow: 0px 1px 3px 1px rgba(0, 0, 0, 0.15);\n",
       "      filter: drop-shadow(0px 1px 2px rgba(0, 0, 0, 0.3));\n",
       "      fill: #FFFFFF;\n",
       "    }\n",
       "  </style>\n",
       "\n",
       "      <script>\n",
       "        const buttonEl =\n",
       "          document.querySelector('#df-44917366-beee-4622-9706-d09b297439c3 button.colab-df-convert');\n",
       "        buttonEl.style.display =\n",
       "          google.colab.kernel.accessAllowed ? 'block' : 'none';\n",
       "\n",
       "        async function convertToInteractive(key) {\n",
       "          const element = document.querySelector('#df-44917366-beee-4622-9706-d09b297439c3');\n",
       "          const dataTable =\n",
       "            await google.colab.kernel.invokeFunction('convertToInteractive',\n",
       "                                                     [key], {});\n",
       "          if (!dataTable) return;\n",
       "\n",
       "          const docLinkHtml = 'Like what you see? Visit the ' +\n",
       "            '<a target=\"_blank\" href=https://colab.research.google.com/notebooks/data_table.ipynb>data table notebook</a>'\n",
       "            + ' to learn more about interactive tables.';\n",
       "          element.innerHTML = '';\n",
       "          dataTable['output_type'] = 'display_data';\n",
       "          await google.colab.output.renderOutput(dataTable, element);\n",
       "          const docLink = document.createElement('div');\n",
       "          docLink.innerHTML = docLinkHtml;\n",
       "          element.appendChild(docLink);\n",
       "        }\n",
       "      </script>\n",
       "    </div>\n",
       "  </div>\n",
       "  "
      ]
     },
     "metadata": {},
     "execution_count": 41
    }
   ],
   "source": [
    "data.head()"
   ]
  },
  {
   "cell_type": "code",
   "execution_count": 42,
   "id": "bdc57d92",
   "metadata": {
    "colab": {
     "base_uri": "https://localhost:8080/",
     "height": 458
    },
    "id": "bdc57d92",
    "outputId": "3dacd494-9e95-462a-99da-c4468bb016ef"
   },
   "outputs": [
    {
     "output_type": "execute_result",
     "data": {
      "text/plain": [
       "                             User_ID  Product_ID    Gender       Age  \\\n",
       "User_ID                     1.000000   -0.008247 -0.031117  0.037451   \n",
       "Product_ID                 -0.008247    1.000000  0.014412  0.021192   \n",
       "Gender                     -0.031117    0.014412  1.000000 -0.008751   \n",
       "Age                         0.037451    0.021192 -0.008751  1.000000   \n",
       "City_Category               0.019336   -0.025223 -0.002937  0.098402   \n",
       "Stay_In_Current_City_Years -0.027410   -0.003153  0.012817 -0.010013   \n",
       "Marital_Status              0.015240    0.010618 -0.010459  0.311430   \n",
       "Product_Category_1          0.007023    0.019471 -0.069258  0.052910   \n",
       "Product_Category_2          0.007372    0.024563 -0.016422  0.047808   \n",
       "Product_Category_3          0.002163    0.019219  0.033820  0.054444   \n",
       "Purchase                    0.000603   -0.108025  0.060034  0.023078   \n",
       "\n",
       "                            City_Category  Stay_In_Current_City_Years  \\\n",
       "User_ID                          0.019336                   -0.027410   \n",
       "Product_ID                      -0.025223                   -0.003153   \n",
       "Gender                          -0.002937                    0.012817   \n",
       "Age                              0.098402                   -0.010013   \n",
       "City_Category                    1.000000                    0.015376   \n",
       "Stay_In_Current_City_Years       0.015376                    1.000000   \n",
       "Marital_Status                   0.043686                   -0.015000   \n",
       "Product_Category_1              -0.020706                   -0.006038   \n",
       "Product_Category_2              -0.004918                   -0.000815   \n",
       "Product_Category_3              -0.000876                    0.000347   \n",
       "Purchase                         0.076327                    0.003687   \n",
       "\n",
       "                            Marital_Status  Product_Category_1  \\\n",
       "User_ID                           0.015240            0.007023   \n",
       "Product_ID                        0.010618            0.019471   \n",
       "Gender                           -0.010459           -0.069258   \n",
       "Age                               0.311430            0.052910   \n",
       "City_Category                     0.043686           -0.020706   \n",
       "Stay_In_Current_City_Years       -0.015000           -0.006038   \n",
       "Marital_Status                    1.000000            0.016434   \n",
       "Product_Category_1                0.016434            1.000000   \n",
       "Product_Category_2                0.011027            0.496955   \n",
       "Product_Category_3                0.016609            0.229194   \n",
       "Purchase                          0.008585           -0.399093   \n",
       "\n",
       "                            Product_Category_2  Product_Category_3  Purchase  \n",
       "User_ID                               0.007372            0.002163  0.000603  \n",
       "Product_ID                            0.024563            0.019219 -0.108025  \n",
       "Gender                               -0.016422            0.033820  0.060034  \n",
       "Age                                   0.047808            0.054444  0.023078  \n",
       "City_Category                        -0.004918           -0.000876  0.076327  \n",
       "Stay_In_Current_City_Years           -0.000815            0.000347  0.003687  \n",
       "Marital_Status                        0.011027            0.016609  0.008585  \n",
       "Product_Category_1                    0.496955            0.229194 -0.399093  \n",
       "Product_Category_2                    1.000000            0.545300 -0.152532  \n",
       "Product_Category_3                    0.545300            1.000000 -0.024676  \n",
       "Purchase                             -0.152532           -0.024676  1.000000  "
      ],
      "text/html": [
       "\n",
       "  <div id=\"df-04b0a8f8-950f-46ed-a2eb-2aba5f6e8b30\">\n",
       "    <div class=\"colab-df-container\">\n",
       "      <div>\n",
       "<style scoped>\n",
       "    .dataframe tbody tr th:only-of-type {\n",
       "        vertical-align: middle;\n",
       "    }\n",
       "\n",
       "    .dataframe tbody tr th {\n",
       "        vertical-align: top;\n",
       "    }\n",
       "\n",
       "    .dataframe thead th {\n",
       "        text-align: right;\n",
       "    }\n",
       "</style>\n",
       "<table border=\"1\" class=\"dataframe\">\n",
       "  <thead>\n",
       "    <tr style=\"text-align: right;\">\n",
       "      <th></th>\n",
       "      <th>User_ID</th>\n",
       "      <th>Product_ID</th>\n",
       "      <th>Gender</th>\n",
       "      <th>Age</th>\n",
       "      <th>City_Category</th>\n",
       "      <th>Stay_In_Current_City_Years</th>\n",
       "      <th>Marital_Status</th>\n",
       "      <th>Product_Category_1</th>\n",
       "      <th>Product_Category_2</th>\n",
       "      <th>Product_Category_3</th>\n",
       "      <th>Purchase</th>\n",
       "    </tr>\n",
       "  </thead>\n",
       "  <tbody>\n",
       "    <tr>\n",
       "      <th>User_ID</th>\n",
       "      <td>1.000000</td>\n",
       "      <td>-0.008247</td>\n",
       "      <td>-0.031117</td>\n",
       "      <td>0.037451</td>\n",
       "      <td>0.019336</td>\n",
       "      <td>-0.027410</td>\n",
       "      <td>0.015240</td>\n",
       "      <td>0.007023</td>\n",
       "      <td>0.007372</td>\n",
       "      <td>0.002163</td>\n",
       "      <td>0.000603</td>\n",
       "    </tr>\n",
       "    <tr>\n",
       "      <th>Product_ID</th>\n",
       "      <td>-0.008247</td>\n",
       "      <td>1.000000</td>\n",
       "      <td>0.014412</td>\n",
       "      <td>0.021192</td>\n",
       "      <td>-0.025223</td>\n",
       "      <td>-0.003153</td>\n",
       "      <td>0.010618</td>\n",
       "      <td>0.019471</td>\n",
       "      <td>0.024563</td>\n",
       "      <td>0.019219</td>\n",
       "      <td>-0.108025</td>\n",
       "    </tr>\n",
       "    <tr>\n",
       "      <th>Gender</th>\n",
       "      <td>-0.031117</td>\n",
       "      <td>0.014412</td>\n",
       "      <td>1.000000</td>\n",
       "      <td>-0.008751</td>\n",
       "      <td>-0.002937</td>\n",
       "      <td>0.012817</td>\n",
       "      <td>-0.010459</td>\n",
       "      <td>-0.069258</td>\n",
       "      <td>-0.016422</td>\n",
       "      <td>0.033820</td>\n",
       "      <td>0.060034</td>\n",
       "    </tr>\n",
       "    <tr>\n",
       "      <th>Age</th>\n",
       "      <td>0.037451</td>\n",
       "      <td>0.021192</td>\n",
       "      <td>-0.008751</td>\n",
       "      <td>1.000000</td>\n",
       "      <td>0.098402</td>\n",
       "      <td>-0.010013</td>\n",
       "      <td>0.311430</td>\n",
       "      <td>0.052910</td>\n",
       "      <td>0.047808</td>\n",
       "      <td>0.054444</td>\n",
       "      <td>0.023078</td>\n",
       "    </tr>\n",
       "    <tr>\n",
       "      <th>City_Category</th>\n",
       "      <td>0.019336</td>\n",
       "      <td>-0.025223</td>\n",
       "      <td>-0.002937</td>\n",
       "      <td>0.098402</td>\n",
       "      <td>1.000000</td>\n",
       "      <td>0.015376</td>\n",
       "      <td>0.043686</td>\n",
       "      <td>-0.020706</td>\n",
       "      <td>-0.004918</td>\n",
       "      <td>-0.000876</td>\n",
       "      <td>0.076327</td>\n",
       "    </tr>\n",
       "    <tr>\n",
       "      <th>Stay_In_Current_City_Years</th>\n",
       "      <td>-0.027410</td>\n",
       "      <td>-0.003153</td>\n",
       "      <td>0.012817</td>\n",
       "      <td>-0.010013</td>\n",
       "      <td>0.015376</td>\n",
       "      <td>1.000000</td>\n",
       "      <td>-0.015000</td>\n",
       "      <td>-0.006038</td>\n",
       "      <td>-0.000815</td>\n",
       "      <td>0.000347</td>\n",
       "      <td>0.003687</td>\n",
       "    </tr>\n",
       "    <tr>\n",
       "      <th>Marital_Status</th>\n",
       "      <td>0.015240</td>\n",
       "      <td>0.010618</td>\n",
       "      <td>-0.010459</td>\n",
       "      <td>0.311430</td>\n",
       "      <td>0.043686</td>\n",
       "      <td>-0.015000</td>\n",
       "      <td>1.000000</td>\n",
       "      <td>0.016434</td>\n",
       "      <td>0.011027</td>\n",
       "      <td>0.016609</td>\n",
       "      <td>0.008585</td>\n",
       "    </tr>\n",
       "    <tr>\n",
       "      <th>Product_Category_1</th>\n",
       "      <td>0.007023</td>\n",
       "      <td>0.019471</td>\n",
       "      <td>-0.069258</td>\n",
       "      <td>0.052910</td>\n",
       "      <td>-0.020706</td>\n",
       "      <td>-0.006038</td>\n",
       "      <td>0.016434</td>\n",
       "      <td>1.000000</td>\n",
       "      <td>0.496955</td>\n",
       "      <td>0.229194</td>\n",
       "      <td>-0.399093</td>\n",
       "    </tr>\n",
       "    <tr>\n",
       "      <th>Product_Category_2</th>\n",
       "      <td>0.007372</td>\n",
       "      <td>0.024563</td>\n",
       "      <td>-0.016422</td>\n",
       "      <td>0.047808</td>\n",
       "      <td>-0.004918</td>\n",
       "      <td>-0.000815</td>\n",
       "      <td>0.011027</td>\n",
       "      <td>0.496955</td>\n",
       "      <td>1.000000</td>\n",
       "      <td>0.545300</td>\n",
       "      <td>-0.152532</td>\n",
       "    </tr>\n",
       "    <tr>\n",
       "      <th>Product_Category_3</th>\n",
       "      <td>0.002163</td>\n",
       "      <td>0.019219</td>\n",
       "      <td>0.033820</td>\n",
       "      <td>0.054444</td>\n",
       "      <td>-0.000876</td>\n",
       "      <td>0.000347</td>\n",
       "      <td>0.016609</td>\n",
       "      <td>0.229194</td>\n",
       "      <td>0.545300</td>\n",
       "      <td>1.000000</td>\n",
       "      <td>-0.024676</td>\n",
       "    </tr>\n",
       "    <tr>\n",
       "      <th>Purchase</th>\n",
       "      <td>0.000603</td>\n",
       "      <td>-0.108025</td>\n",
       "      <td>0.060034</td>\n",
       "      <td>0.023078</td>\n",
       "      <td>0.076327</td>\n",
       "      <td>0.003687</td>\n",
       "      <td>0.008585</td>\n",
       "      <td>-0.399093</td>\n",
       "      <td>-0.152532</td>\n",
       "      <td>-0.024676</td>\n",
       "      <td>1.000000</td>\n",
       "    </tr>\n",
       "  </tbody>\n",
       "</table>\n",
       "</div>\n",
       "      <button class=\"colab-df-convert\" onclick=\"convertToInteractive('df-04b0a8f8-950f-46ed-a2eb-2aba5f6e8b30')\"\n",
       "              title=\"Convert this dataframe to an interactive table.\"\n",
       "              style=\"display:none;\">\n",
       "        \n",
       "  <svg xmlns=\"http://www.w3.org/2000/svg\" height=\"24px\"viewBox=\"0 0 24 24\"\n",
       "       width=\"24px\">\n",
       "    <path d=\"M0 0h24v24H0V0z\" fill=\"none\"/>\n",
       "    <path d=\"M18.56 5.44l.94 2.06.94-2.06 2.06-.94-2.06-.94-.94-2.06-.94 2.06-2.06.94zm-11 1L8.5 8.5l.94-2.06 2.06-.94-2.06-.94L8.5 2.5l-.94 2.06-2.06.94zm10 10l.94 2.06.94-2.06 2.06-.94-2.06-.94-.94-2.06-.94 2.06-2.06.94z\"/><path d=\"M17.41 7.96l-1.37-1.37c-.4-.4-.92-.59-1.43-.59-.52 0-1.04.2-1.43.59L10.3 9.45l-7.72 7.72c-.78.78-.78 2.05 0 2.83L4 21.41c.39.39.9.59 1.41.59.51 0 1.02-.2 1.41-.59l7.78-7.78 2.81-2.81c.8-.78.8-2.07 0-2.86zM5.41 20L4 18.59l7.72-7.72 1.47 1.35L5.41 20z\"/>\n",
       "  </svg>\n",
       "      </button>\n",
       "      \n",
       "  <style>\n",
       "    .colab-df-container {\n",
       "      display:flex;\n",
       "      flex-wrap:wrap;\n",
       "      gap: 12px;\n",
       "    }\n",
       "\n",
       "    .colab-df-convert {\n",
       "      background-color: #E8F0FE;\n",
       "      border: none;\n",
       "      border-radius: 50%;\n",
       "      cursor: pointer;\n",
       "      display: none;\n",
       "      fill: #1967D2;\n",
       "      height: 32px;\n",
       "      padding: 0 0 0 0;\n",
       "      width: 32px;\n",
       "    }\n",
       "\n",
       "    .colab-df-convert:hover {\n",
       "      background-color: #E2EBFA;\n",
       "      box-shadow: 0px 1px 2px rgba(60, 64, 67, 0.3), 0px 1px 3px 1px rgba(60, 64, 67, 0.15);\n",
       "      fill: #174EA6;\n",
       "    }\n",
       "\n",
       "    [theme=dark] .colab-df-convert {\n",
       "      background-color: #3B4455;\n",
       "      fill: #D2E3FC;\n",
       "    }\n",
       "\n",
       "    [theme=dark] .colab-df-convert:hover {\n",
       "      background-color: #434B5C;\n",
       "      box-shadow: 0px 1px 3px 1px rgba(0, 0, 0, 0.15);\n",
       "      filter: drop-shadow(0px 1px 2px rgba(0, 0, 0, 0.3));\n",
       "      fill: #FFFFFF;\n",
       "    }\n",
       "  </style>\n",
       "\n",
       "      <script>\n",
       "        const buttonEl =\n",
       "          document.querySelector('#df-04b0a8f8-950f-46ed-a2eb-2aba5f6e8b30 button.colab-df-convert');\n",
       "        buttonEl.style.display =\n",
       "          google.colab.kernel.accessAllowed ? 'block' : 'none';\n",
       "\n",
       "        async function convertToInteractive(key) {\n",
       "          const element = document.querySelector('#df-04b0a8f8-950f-46ed-a2eb-2aba5f6e8b30');\n",
       "          const dataTable =\n",
       "            await google.colab.kernel.invokeFunction('convertToInteractive',\n",
       "                                                     [key], {});\n",
       "          if (!dataTable) return;\n",
       "\n",
       "          const docLinkHtml = 'Like what you see? Visit the ' +\n",
       "            '<a target=\"_blank\" href=https://colab.research.google.com/notebooks/data_table.ipynb>data table notebook</a>'\n",
       "            + ' to learn more about interactive tables.';\n",
       "          element.innerHTML = '';\n",
       "          dataTable['output_type'] = 'display_data';\n",
       "          await google.colab.output.renderOutput(dataTable, element);\n",
       "          const docLink = document.createElement('div');\n",
       "          docLink.innerHTML = docLinkHtml;\n",
       "          element.appendChild(docLink);\n",
       "        }\n",
       "      </script>\n",
       "    </div>\n",
       "  </div>\n",
       "  "
      ]
     },
     "metadata": {},
     "execution_count": 42
    }
   ],
   "source": [
    "data.corr()"
   ]
  },
  {
   "cell_type": "code",
   "execution_count": 43,
   "id": "7d9aa77e",
   "metadata": {
    "colab": {
     "base_uri": "https://localhost:8080/",
     "height": 466
    },
    "id": "7d9aa77e",
    "outputId": "284e93b9-72e0-4bd5-c9a5-8b77f22f0a31"
   },
   "outputs": [
    {
     "output_type": "execute_result",
     "data": {
      "text/plain": [
       "<AxesSubplot:>"
      ]
     },
     "metadata": {},
     "execution_count": 43
    },
    {
     "output_type": "display_data",
     "data": {
      "text/plain": [
       "<Figure size 1080x360 with 2 Axes>"
      ],
      "image/png": "[encoded data removed]"
     },
     "metadata": {
      "needs_background": "light"
     }
    }
   ],
   "source": [
    "plt.figure(figsize=(15,5))\n",
    "sns.heatmap(data.corr(), annot=True)"
   ]
  },
  {
   "cell_type": "markdown",
   "id": "274e3f17",
   "metadata": {
    "id": "274e3f17"
   },
   "source": [
    "## Statistical Analysis"
   ]
  },
  {
   "cell_type": "markdown",
   "id": "fa04222c",
   "metadata": {
    "id": "fa04222c"
   },
   "source": [
    "It was observed that the average purchase made by the Men of the age 18-25\n",
    "was 10000. Is it still the same?\n"
   ]
  },
  {
   "cell_type": "code",
   "execution_count": 44,
   "id": "f0ab39e1",
   "metadata": {
    "id": "f0ab39e1"
   },
   "outputs": [],
   "source": [
    "#NUll hypothesis  - The mean is 10000\n",
    "#Alternate hypothesis - The mean is not 10000"
   ]
  },
  {
   "cell_type": "code",
   "execution_count": 45,
   "id": "541e4bfa",
   "metadata": {
    "id": "541e4bfa"
   },
   "outputs": [],
   "source": [
    "#One sample T-test = is used to test whether or not the mean of a population is equal to some value.\n",
    "#is used to compare the means of two groups."
   ]
  },
  {
   "cell_type": "code",
   "id": "f04ccfb0",
   "metadata": {
    "colab": {
     "base_uri": "https://localhost:8080/",
     "height": 467
    },
    "id": "f04ccfb0",
    "outputId": "78dfe172-8f0c-47b1-91a3-c8c228ca66f6",
    "ExecuteTime": {
     "end_time": "2024-07-16T06:57:48.349409Z",
     "start_time": "2024-07-16T06:57:48.325431Z"
    }
   },
   "source": [
    "new_data = data.loc[(data[\"Age\"]==1) & data['Gender']==1] #Male and 18-25\n",
    "new_data"
   ],
   "outputs": [
    {
     "data": {
      "text/plain": [
       "        User_ID  Product_ID  Gender  Age  City_Category  \\\n",
       "97           20        2024       1    1              1   \n",
       "98           21        3261       1    1              0   \n",
       "99           21        1954       1    1              0   \n",
       "100          21        1792       1    1              0   \n",
       "101          21        1020       1    1              0   \n",
       "...         ...         ...     ...  ...            ...   \n",
       "262767     4333        1311       1    1              1   \n",
       "262951     4352        2880       1    1              0   \n",
       "262952     4352        1296       1    1              0   \n",
       "262953     4352        2733       1    1              0   \n",
       "262954     4352        1424       1    1              0   \n",
       "\n",
       "       Stay_In_Current_City_Years  Marital_Status  Product_Category_1  \\\n",
       "97                              0               0                   3   \n",
       "98                             4+               0                   1   \n",
       "99                             4+               0                   5   \n",
       "100                            4+               0                   3   \n",
       "101                            4+               0                   8   \n",
       "...                           ...             ...                 ...   \n",
       "262767                          1               1                   1   \n",
       "262951                          1               1                   5   \n",
       "262952                          1               1                   2   \n",
       "262953                          1               1                   8   \n",
       "262954                          1               1                   8   \n",
       "\n",
       "        Product_Category_2  Product_Category_3  Purchase  \n",
       "97                    12.0                 NaN      3055  \n",
       "98                     8.0                17.0     12099  \n",
       "99                     8.0                 NaN      8797  \n",
       "100                    4.0                 NaN     10681  \n",
       "101                   14.0                 NaN      7801  \n",
       "...                    ...                 ...       ...  \n",
       "262767                 2.0                 NaN     15431  \n",
       "262951                 NaN                 NaN      1763  \n",
       "262952                 3.0                 4.0      3240  \n",
       "262953                 NaN                 NaN      5832  \n",
       "262954                 NaN                 NaN      7788  \n",
       "\n",
       "[36332 rows x 11 columns]"
      ],
      "text/html": [
       "<div>\n",
       "<style scoped>\n",
       "    .dataframe tbody tr th:only-of-type {\n",
       "        vertical-align: middle;\n",
       "    }\n",
       "\n",
       "    .dataframe tbody tr th {\n",
       "        vertical-align: top;\n",
       "    }\n",
       "\n",
       "    .dataframe thead th {\n",
       "        text-align: right;\n",
       "    }\n",
       "</style>\n",
       "<table border=\"1\" class=\"dataframe\">\n",
       "  <thead>\n",
       "    <tr style=\"text-align: right;\">\n",
       "      <th></th>\n",
       "      <th>User_ID</th>\n",
       "      <th>Product_ID</th>\n",
       "      <th>Gender</th>\n",
       "      <th>Age</th>\n",
       "      <th>City_Category</th>\n",
       "      <th>Stay_In_Current_City_Years</th>\n",
       "      <th>Marital_Status</th>\n",
       "      <th>Product_Category_1</th>\n",
       "      <th>Product_Category_2</th>\n",
       "      <th>Product_Category_3</th>\n",
       "      <th>Purchase</th>\n",
       "    </tr>\n",
       "  </thead>\n",
       "  <tbody>\n",
       "    <tr>\n",
       "      <th>97</th>\n",
       "      <td>20</td>\n",
       "      <td>2024</td>\n",
       "      <td>1</td>\n",
       "      <td>1</td>\n",
       "      <td>1</td>\n",
       "      <td>0</td>\n",
       "      <td>0</td>\n",
       "      <td>3</td>\n",
       "      <td>12.0</td>\n",
       "      <td>NaN</td>\n",
       "      <td>3055</td>\n",
       "    </tr>\n",
       "    <tr>\n",
       "      <th>98</th>\n",
       "      <td>21</td>\n",
       "      <td>3261</td>\n",
       "      <td>1</td>\n",
       "      <td>1</td>\n",
       "      <td>0</td>\n",
       "      <td>4+</td>\n",
       "      <td>0</td>\n",
       "      <td>1</td>\n",
       "      <td>8.0</td>\n",
       "      <td>17.0</td>\n",
       "      <td>12099</td>\n",
       "    </tr>\n",
       "    <tr>\n",
       "      <th>99</th>\n",
       "      <td>21</td>\n",
       "      <td>1954</td>\n",
       "      <td>1</td>\n",
       "      <td>1</td>\n",
       "      <td>0</td>\n",
       "      <td>4+</td>\n",
       "      <td>0</td>\n",
       "      <td>5</td>\n",
       "      <td>8.0</td>\n",
       "      <td>NaN</td>\n",
       "      <td>8797</td>\n",
       "    </tr>\n",
       "    <tr>\n",
       "      <th>100</th>\n",
       "      <td>21</td>\n",
       "      <td>1792</td>\n",
       "      <td>1</td>\n",
       "      <td>1</td>\n",
       "      <td>0</td>\n",
       "      <td>4+</td>\n",
       "      <td>0</td>\n",
       "      <td>3</td>\n",
       "      <td>4.0</td>\n",
       "      <td>NaN</td>\n",
       "      <td>10681</td>\n",
       "    </tr>\n",
       "    <tr>\n",
       "      <th>101</th>\n",
       "      <td>21</td>\n",
       "      <td>1020</td>\n",
       "      <td>1</td>\n",
       "      <td>1</td>\n",
       "      <td>0</td>\n",
       "      <td>4+</td>\n",
       "      <td>0</td>\n",
       "      <td>8</td>\n",
       "      <td>14.0</td>\n",
       "      <td>NaN</td>\n",
       "      <td>7801</td>\n",
       "    </tr>\n",
       "    <tr>\n",
       "      <th>...</th>\n",
       "      <td>...</td>\n",
       "      <td>...</td>\n",
       "      <td>...</td>\n",
       "      <td>...</td>\n",
       "      <td>...</td>\n",
       "      <td>...</td>\n",
       "      <td>...</td>\n",
       "      <td>...</td>\n",
       "      <td>...</td>\n",
       "      <td>...</td>\n",
       "      <td>...</td>\n",
       "    </tr>\n",
       "    <tr>\n",
       "      <th>262767</th>\n",
       "      <td>4333</td>\n",
       "      <td>1311</td>\n",
       "      <td>1</td>\n",
       "      <td>1</td>\n",
       "      <td>1</td>\n",
       "      <td>1</td>\n",
       "      <td>1</td>\n",
       "      <td>1</td>\n",
       "      <td>2.0</td>\n",
       "      <td>NaN</td>\n",
       "      <td>15431</td>\n",
       "    </tr>\n",
       "    <tr>\n",
       "      <th>262951</th>\n",
       "      <td>4352</td>\n",
       "      <td>2880</td>\n",
       "      <td>1</td>\n",
       "      <td>1</td>\n",
       "      <td>0</td>\n",
       "      <td>1</td>\n",
       "      <td>1</td>\n",
       "      <td>5</td>\n",
       "      <td>NaN</td>\n",
       "      <td>NaN</td>\n",
       "      <td>1763</td>\n",
       "    </tr>\n",
       "    <tr>\n",
       "      <th>262952</th>\n",
       "      <td>4352</td>\n",
       "      <td>1296</td>\n",
       "      <td>1</td>\n",
       "      <td>1</td>\n",
       "      <td>0</td>\n",
       "      <td>1</td>\n",
       "      <td>1</td>\n",
       "      <td>2</td>\n",
       "      <td>3.0</td>\n",
       "      <td>4.0</td>\n",
       "      <td>3240</td>\n",
       "    </tr>\n",
       "    <tr>\n",
       "      <th>262953</th>\n",
       "      <td>4352</td>\n",
       "      <td>2733</td>\n",
       "      <td>1</td>\n",
       "      <td>1</td>\n",
       "      <td>0</td>\n",
       "      <td>1</td>\n",
       "      <td>1</td>\n",
       "      <td>8</td>\n",
       "      <td>NaN</td>\n",
       "      <td>NaN</td>\n",
       "      <td>5832</td>\n",
       "    </tr>\n",
       "    <tr>\n",
       "      <th>262954</th>\n",
       "      <td>4352</td>\n",
       "      <td>1424</td>\n",
       "      <td>1</td>\n",
       "      <td>1</td>\n",
       "      <td>0</td>\n",
       "      <td>1</td>\n",
       "      <td>1</td>\n",
       "      <td>8</td>\n",
       "      <td>NaN</td>\n",
       "      <td>NaN</td>\n",
       "      <td>7788</td>\n",
       "    </tr>\n",
       "  </tbody>\n",
       "</table>\n",
       "<p>36332 rows × 11 columns</p>\n",
       "</div>"
      ]
     },
     "execution_count": 11,
     "metadata": {},
     "output_type": "execute_result"
    }
   ],
   "execution_count": 11
  },
  {
   "cell_type": "code",
   "id": "e8288eff",
   "metadata": {
    "colab": {
     "base_uri": "https://localhost:8080/"
    },
    "id": "e8288eff",
    "outputId": "116fc6f8-0424-4faa-d651-0d63a9feb6b6",
    "ExecuteTime": {
     "end_time": "2024-07-16T06:57:50.600122Z",
     "start_time": "2024-07-16T06:57:50.592039Z"
    }
   },
   "source": [
    "new_data.shape"
   ],
   "outputs": [
    {
     "data": {
      "text/plain": [
       "(36332, 11)"
      ]
     },
     "execution_count": 12,
     "metadata": {},
     "output_type": "execute_result"
    }
   ],
   "execution_count": 12
  },
  {
   "cell_type": "code",
   "id": "7e9d9d75",
   "metadata": {
    "colab": {
     "base_uri": "https://localhost:8080/",
     "height": 467
    },
    "id": "7e9d9d75",
    "outputId": "0551bbc2-1fda-4b89-d9a6-07242ae91346",
    "ExecuteTime": {
     "end_time": "2024-07-16T06:57:51.778955Z",
     "start_time": "2024-07-16T06:57:51.761479Z"
    }
   },
   "source": [
    "sample_size = 1000\n",
    "sample = new_data.sample(sample_size, random_state=44)\n",
    "sample"
   ],
   "outputs": [
    {
     "data": {
      "text/plain": [
       "        User_ID  Product_ID  Gender  Age  City_Category  \\\n",
       "155089     5814        2010       1    1              1   \n",
       "92641      2147        3261       1    1              2   \n",
       "145393     4298        2096       1    1              0   \n",
       "32355      4835        2354       1    1              1   \n",
       "96993      2948        2051       1    1              0   \n",
       "...         ...         ...     ...  ...            ...   \n",
       "245548     1754         474       1    1              2   \n",
       "10184      1533        2396       1    1              1   \n",
       "1262        198        2099       1    1              0   \n",
       "26389      3939        1633       1    1              1   \n",
       "134056     2616         298       1    1              1   \n",
       "\n",
       "       Stay_In_Current_City_Years  Marital_Status  Product_Category_1  \\\n",
       "155089                          1               0                   5   \n",
       "92641                          4+               0                   1   \n",
       "145393                          3               0                  13   \n",
       "32355                           1               0                   8   \n",
       "96993                          4+               0                   1   \n",
       "...                           ...             ...                 ...   \n",
       "245548                          0               0                   1   \n",
       "10184                           1               1                  11   \n",
       "1262                            3               0                   2   \n",
       "26389                           2               0                  11   \n",
       "134056                          2               0                   8   \n",
       "\n",
       "        Product_Category_2  Product_Category_3  Purchase  \n",
       "155089                 NaN                 NaN      3506  \n",
       "92641                  8.0                17.0     11378  \n",
       "145393                 NaN                 NaN       957  \n",
       "32355                  NaN                 NaN      2125  \n",
       "96993                  2.0                 8.0     11608  \n",
       "...                    ...                 ...       ...  \n",
       "245548                15.0                 NaN     19642  \n",
       "10184                  NaN                 NaN      2948  \n",
       "1262                   5.0                 NaN     12900  \n",
       "26389                  NaN                 NaN      3123  \n",
       "134056                 NaN                 NaN      9973  \n",
       "\n",
       "[1000 rows x 11 columns]"
      ],
      "text/html": [
       "<div>\n",
       "<style scoped>\n",
       "    .dataframe tbody tr th:only-of-type {\n",
       "        vertical-align: middle;\n",
       "    }\n",
       "\n",
       "    .dataframe tbody tr th {\n",
       "        vertical-align: top;\n",
       "    }\n",
       "\n",
       "    .dataframe thead th {\n",
       "        text-align: right;\n",
       "    }\n",
       "</style>\n",
       "<table border=\"1\" class=\"dataframe\">\n",
       "  <thead>\n",
       "    <tr style=\"text-align: right;\">\n",
       "      <th></th>\n",
       "      <th>User_ID</th>\n",
       "      <th>Product_ID</th>\n",
       "      <th>Gender</th>\n",
       "      <th>Age</th>\n",
       "      <th>City_Category</th>\n",
       "      <th>Stay_In_Current_City_Years</th>\n",
       "      <th>Marital_Status</th>\n",
       "      <th>Product_Category_1</th>\n",
       "      <th>Product_Category_2</th>\n",
       "      <th>Product_Category_3</th>\n",
       "      <th>Purchase</th>\n",
       "    </tr>\n",
       "  </thead>\n",
       "  <tbody>\n",
       "    <tr>\n",
       "      <th>155089</th>\n",
       "      <td>5814</td>\n",
       "      <td>2010</td>\n",
       "      <td>1</td>\n",
       "      <td>1</td>\n",
       "      <td>1</td>\n",
       "      <td>1</td>\n",
       "      <td>0</td>\n",
       "      <td>5</td>\n",
       "      <td>NaN</td>\n",
       "      <td>NaN</td>\n",
       "      <td>3506</td>\n",
       "    </tr>\n",
       "    <tr>\n",
       "      <th>92641</th>\n",
       "      <td>2147</td>\n",
       "      <td>3261</td>\n",
       "      <td>1</td>\n",
       "      <td>1</td>\n",
       "      <td>2</td>\n",
       "      <td>4+</td>\n",
       "      <td>0</td>\n",
       "      <td>1</td>\n",
       "      <td>8.0</td>\n",
       "      <td>17.0</td>\n",
       "      <td>11378</td>\n",
       "    </tr>\n",
       "    <tr>\n",
       "      <th>145393</th>\n",
       "      <td>4298</td>\n",
       "      <td>2096</td>\n",
       "      <td>1</td>\n",
       "      <td>1</td>\n",
       "      <td>0</td>\n",
       "      <td>3</td>\n",
       "      <td>0</td>\n",
       "      <td>13</td>\n",
       "      <td>NaN</td>\n",
       "      <td>NaN</td>\n",
       "      <td>957</td>\n",
       "    </tr>\n",
       "    <tr>\n",
       "      <th>32355</th>\n",
       "      <td>4835</td>\n",
       "      <td>2354</td>\n",
       "      <td>1</td>\n",
       "      <td>1</td>\n",
       "      <td>1</td>\n",
       "      <td>1</td>\n",
       "      <td>0</td>\n",
       "      <td>8</td>\n",
       "      <td>NaN</td>\n",
       "      <td>NaN</td>\n",
       "      <td>2125</td>\n",
       "    </tr>\n",
       "    <tr>\n",
       "      <th>96993</th>\n",
       "      <td>2948</td>\n",
       "      <td>2051</td>\n",
       "      <td>1</td>\n",
       "      <td>1</td>\n",
       "      <td>0</td>\n",
       "      <td>4+</td>\n",
       "      <td>0</td>\n",
       "      <td>1</td>\n",
       "      <td>2.0</td>\n",
       "      <td>8.0</td>\n",
       "      <td>11608</td>\n",
       "    </tr>\n",
       "    <tr>\n",
       "      <th>...</th>\n",
       "      <td>...</td>\n",
       "      <td>...</td>\n",
       "      <td>...</td>\n",
       "      <td>...</td>\n",
       "      <td>...</td>\n",
       "      <td>...</td>\n",
       "      <td>...</td>\n",
       "      <td>...</td>\n",
       "      <td>...</td>\n",
       "      <td>...</td>\n",
       "      <td>...</td>\n",
       "    </tr>\n",
       "    <tr>\n",
       "      <th>245548</th>\n",
       "      <td>1754</td>\n",
       "      <td>474</td>\n",
       "      <td>1</td>\n",
       "      <td>1</td>\n",
       "      <td>2</td>\n",
       "      <td>0</td>\n",
       "      <td>0</td>\n",
       "      <td>1</td>\n",
       "      <td>15.0</td>\n",
       "      <td>NaN</td>\n",
       "      <td>19642</td>\n",
       "    </tr>\n",
       "    <tr>\n",
       "      <th>10184</th>\n",
       "      <td>1533</td>\n",
       "      <td>2396</td>\n",
       "      <td>1</td>\n",
       "      <td>1</td>\n",
       "      <td>1</td>\n",
       "      <td>1</td>\n",
       "      <td>1</td>\n",
       "      <td>11</td>\n",
       "      <td>NaN</td>\n",
       "      <td>NaN</td>\n",
       "      <td>2948</td>\n",
       "    </tr>\n",
       "    <tr>\n",
       "      <th>1262</th>\n",
       "      <td>198</td>\n",
       "      <td>2099</td>\n",
       "      <td>1</td>\n",
       "      <td>1</td>\n",
       "      <td>0</td>\n",
       "      <td>3</td>\n",
       "      <td>0</td>\n",
       "      <td>2</td>\n",
       "      <td>5.0</td>\n",
       "      <td>NaN</td>\n",
       "      <td>12900</td>\n",
       "    </tr>\n",
       "    <tr>\n",
       "      <th>26389</th>\n",
       "      <td>3939</td>\n",
       "      <td>1633</td>\n",
       "      <td>1</td>\n",
       "      <td>1</td>\n",
       "      <td>1</td>\n",
       "      <td>2</td>\n",
       "      <td>0</td>\n",
       "      <td>11</td>\n",
       "      <td>NaN</td>\n",
       "      <td>NaN</td>\n",
       "      <td>3123</td>\n",
       "    </tr>\n",
       "    <tr>\n",
       "      <th>134056</th>\n",
       "      <td>2616</td>\n",
       "      <td>298</td>\n",
       "      <td>1</td>\n",
       "      <td>1</td>\n",
       "      <td>1</td>\n",
       "      <td>2</td>\n",
       "      <td>0</td>\n",
       "      <td>8</td>\n",
       "      <td>NaN</td>\n",
       "      <td>NaN</td>\n",
       "      <td>9973</td>\n",
       "    </tr>\n",
       "  </tbody>\n",
       "</table>\n",
       "<p>1000 rows × 11 columns</p>\n",
       "</div>"
      ]
     },
     "execution_count": 13,
     "metadata": {},
     "output_type": "execute_result"
    }
   ],
   "execution_count": 13
  },
  {
   "cell_type": "code",
   "id": "4f393d21",
   "metadata": {
    "id": "4f393d21",
    "ExecuteTime": {
     "end_time": "2024-07-16T06:57:52.911979Z",
     "start_time": "2024-07-16T06:57:52.906428Z"
    }
   },
   "source": [
    "p_mean = 10000"
   ],
   "outputs": [],
   "execution_count": 14
  },
  {
   "cell_type": "code",
   "id": "29c17cf7",
   "metadata": {
    "colab": {
     "base_uri": "https://localhost:8080/"
    },
    "id": "29c17cf7",
    "outputId": "e79b115c-3b32-467f-cd8c-40287245d992",
    "ExecuteTime": {
     "end_time": "2024-07-16T06:57:54.285699Z",
     "start_time": "2024-07-16T06:57:54.280506Z"
    }
   },
   "source": [
    "sample_mean = sample[\"Purchase\"].mean()\n",
    "print(sample_mean)"
   ],
   "outputs": [
    {
     "name": "stdout",
     "output_type": "stream",
     "text": [
      "9393.114\n"
     ]
    }
   ],
   "execution_count": 15
  },
  {
   "cell_type": "code",
   "id": "9a36c298",
   "metadata": {
    "id": "9a36c298",
    "ExecuteTime": {
     "end_time": "2024-07-16T06:57:55.546660Z",
     "start_time": "2024-07-16T06:57:55.539974Z"
    }
   },
   "source": [
    "#one sample t test\n",
    "from scipy.stats import ttest_1samp"
   ],
   "outputs": [],
   "execution_count": 16
  },
  {
   "cell_type": "code",
   "id": "ae4d9c0b",
   "metadata": {
    "colab": {
     "base_uri": "https://localhost:8080/"
    },
    "id": "ae4d9c0b",
    "outputId": "b0c3c824-21b7-44bd-f96b-c355b6e22826",
    "ExecuteTime": {
     "end_time": "2024-07-16T06:57:56.690273Z",
     "start_time": "2024-07-16T06:57:56.680481Z"
    }
   },
   "source": [
    "t_stat, p_value = ttest_1samp(sample['Purchase'], p_mean)\n",
    "print(t_stat, p_value)"
   ],
   "outputs": [
    {
     "name": "stdout",
     "output_type": "stream",
     "text": [
      "-3.7532811608846286 0.00018459576198200494\n"
     ]
    }
   ],
   "execution_count": 17
  },
  {
   "cell_type": "code",
   "execution_count": 53,
   "id": "a59956be",
   "metadata": {
    "id": "a59956be"
   },
   "outputs": [],
   "source": [
    "#p value is less than 0.05 , reject the null hypothesis.\n",
    "#Therefore, the mean purchase for men ages 18-25 is not 10000."
   ]
  },
  {
   "cell_type": "markdown",
   "id": "d86b405e",
   "metadata": {
    "id": "d86b405e"
   },
   "source": [
    "It was observed that the percentage of women that spend more than\n",
    "10000 was 35%. Is it still the same?"
   ]
  },
  {
   "cell_type": "code",
   "execution_count": 54,
   "id": "09bed0c5",
   "metadata": {
    "id": "09bed0c5"
   },
   "outputs": [],
   "source": [
    "#NUll hypothesis  - proportion is 35%\n",
    "#Alternate hypothesis - proportion is not 35%"
   ]
  },
  {
   "cell_type": "code",
   "id": "bb0b197b",
   "metadata": {
    "id": "bb0b197b",
    "ExecuteTime": {
     "end_time": "2024-07-16T06:59:25.797308Z",
     "start_time": "2024-07-16T06:59:25.786138Z"
    }
   },
   "source": [
    "data_new = data.loc[(data['Purchase']>10000)]"
   ],
   "outputs": [],
   "execution_count": 22
  },
  {
   "cell_type": "code",
   "id": "eda761e1",
   "metadata": {
    "colab": {
     "base_uri": "https://localhost:8080/"
    },
    "id": "eda761e1",
    "outputId": "e3f3014f-9489-42d6-817e-c80936d9dcf2",
    "ExecuteTime": {
     "end_time": "2024-07-16T06:59:26.064294Z",
     "start_time": "2024-07-16T06:59:26.059159Z"
    }
   },
   "source": [
    "data_new.shape"
   ],
   "outputs": [
    {
     "data": {
      "text/plain": [
       "(91057, 11)"
      ]
     },
     "execution_count": 23,
     "metadata": {},
     "output_type": "execute_result"
    }
   ],
   "execution_count": 23
  },
  {
   "cell_type": "code",
   "id": "9b2181f2",
   "metadata": {
    "id": "9b2181f2",
    "ExecuteTime": {
     "end_time": "2024-07-16T06:59:26.363204Z",
     "start_time": "2024-07-16T06:59:26.358489Z"
    }
   },
   "source": [
    "#no of women in the sample\n",
    "count = data_new[\"Gender\"].value_counts()[0]\n",
    "\n",
    "#no. of obs\n",
    "nobs = len(data_new[\"Gender\"])\n",
    "\n",
    "#hypothesise value\n",
    "p0 = 0.35"
   ],
   "outputs": [],
   "execution_count": 24
  },
  {
   "cell_type": "code",
   "id": "d8919fe3",
   "metadata": {
    "colab": {
     "base_uri": "https://localhost:8080/"
    },
    "id": "d8919fe3",
    "outputId": "79b40bfb-82fe-4f6a-889d-95531a78abe3",
    "ExecuteTime": {
     "end_time": "2024-07-16T06:59:26.732826Z",
     "start_time": "2024-07-16T06:59:26.728127Z"
    }
   },
   "source": [
    "count"
   ],
   "outputs": [
    {
     "data": {
      "text/plain": [
       "18685"
      ]
     },
     "execution_count": 25,
     "metadata": {},
     "output_type": "execute_result"
    }
   ],
   "execution_count": 25
  },
  {
   "cell_type": "code",
   "id": "0565af9f",
   "metadata": {
    "colab": {
     "base_uri": "https://localhost:8080/"
    },
    "id": "0565af9f",
    "outputId": "95cd0026-1d2d-43b7-dfa6-d48ff5b59384",
    "ExecuteTime": {
     "end_time": "2024-07-16T06:59:27.072916Z",
     "start_time": "2024-07-16T06:59:27.061882Z"
    }
   },
   "source": [
    "data_new[\"Gender\"].value_counts()/nobs"
   ],
   "outputs": [
    {
     "data": {
      "text/plain": [
       "Gender\n",
       "1    0.794799\n",
       "0    0.205201\n",
       "Name: count, dtype: float64"
      ]
     },
     "execution_count": 26,
     "metadata": {},
     "output_type": "execute_result"
    }
   ],
   "execution_count": 26
  },
  {
   "cell_type": "code",
   "id": "9a0f5a71",
   "metadata": {
    "id": "9a0f5a71",
    "ExecuteTime": {
     "end_time": "2024-07-16T06:59:27.436459Z",
     "start_time": "2024-07-16T06:59:27.433595Z"
    }
   },
   "source": [
    "#Ztest - used to determine whether two population means are different when the variances are known."
   ],
   "outputs": [],
   "execution_count": 27
  },
  {
   "cell_type": "code",
   "id": "566d2253",
   "metadata": {
    "id": "566d2253",
    "ExecuteTime": {
     "end_time": "2024-07-16T06:59:27.997712Z",
     "start_time": "2024-07-16T06:59:27.992364Z"
    }
   },
   "source": [
    "from statsmodels.stats.proportion import proportions_ztest"
   ],
   "outputs": [],
   "execution_count": 28
  },
  {
   "cell_type": "code",
   "id": "95a9eb4b",
   "metadata": {
    "colab": {
     "base_uri": "https://localhost:8080/"
    },
    "id": "95a9eb4b",
    "outputId": "d53c6776-542a-479c-8a74-03c935e4c8e8",
    "ExecuteTime": {
     "end_time": "2024-07-16T06:59:28.561778Z",
     "start_time": "2024-07-16T06:59:28.548659Z"
    }
   },
   "source": [
    "z_stat, p_value = proportions_ztest(count=count,nobs=nobs, value=p0)\n",
    "print(z_stat, p_value)"
   ],
   "outputs": [
    {
     "name": "stdout",
     "output_type": "stream",
     "text": [
      "-108.19403500300525 0.0\n"
     ]
    }
   ],
   "execution_count": 29
  },
  {
   "cell_type": "code",
   "id": "d62da401",
   "metadata": {
    "id": "d62da401",
    "ExecuteTime": {
     "end_time": "2024-07-16T06:59:28.898913Z",
     "start_time": "2024-07-16T06:59:28.893347Z"
    }
   },
   "source": [
    "#p-value is less than 0.05, reject the null hypothesis i.e.., proportion is not 35%"
   ],
   "outputs": [],
   "execution_count": 30
  },
  {
   "cell_type": "markdown",
   "id": "d8953605",
   "metadata": {
    "id": "d8953605"
   },
   "source": [
    "Is the average purchase made by men and women of the age 18-25 same?"
   ]
  },
  {
   "cell_type": "code",
   "id": "070b6fb7",
   "metadata": {
    "id": "070b6fb7",
    "ExecuteTime": {
     "end_time": "2024-07-16T06:59:29.415502Z",
     "start_time": "2024-07-16T06:59:29.400518Z"
    }
   },
   "source": [
    "#null hypothesis - average spends are equal \n",
    "#alternate hypothesis - average spends are not equal\n",
    "\n",
    "data_men = data.loc[(data['Gender'] == 1)& (data['Age'] == 1)]\n",
    "data_women = data.loc[(data['Gender'] == 0) & (data['Age'] == 1)]"
   ],
   "outputs": [],
   "execution_count": 31
  },
  {
   "cell_type": "code",
   "id": "e93f3f1c",
   "metadata": {
    "id": "e93f3f1c",
    "ExecuteTime": {
     "end_time": "2024-07-16T06:59:29.674842Z",
     "start_time": "2024-07-16T06:59:29.667297Z"
    }
   },
   "source": [
    "#creating samples\n",
    "data_men_sample = data_men.sample(500, random_state=0)\n",
    "data_women_sample = data_women.sample(500, random_state=0)"
   ],
   "outputs": [],
   "execution_count": 32
  },
  {
   "cell_type": "code",
   "id": "47c41528",
   "metadata": {
    "colab": {
     "base_uri": "https://localhost:8080/"
    },
    "id": "47c41528",
    "outputId": "79186110-336e-4774-dc1a-2c5bde5b7e94",
    "ExecuteTime": {
     "end_time": "2024-07-16T06:59:29.910359Z",
     "start_time": "2024-07-16T06:59:29.906399Z"
    }
   },
   "source": [
    "#checking variances of the two samples\n",
    "print(data_men_sample.Purchase.var())\n",
    "print(data_women_sample.Purchase.var())"
   ],
   "outputs": [
    {
     "name": "stdout",
     "output_type": "stream",
     "text": [
      "27003556.191919837\n",
      "21090163.437611222\n"
     ]
    }
   ],
   "execution_count": 33
  },
  {
   "cell_type": "code",
   "id": "082a58ed",
   "metadata": {
    "colab": {
     "base_uri": "https://localhost:8080/"
    },
    "id": "082a58ed",
    "outputId": "35f633b0-6c01-4e49-d9fa-7899f674d828",
    "ExecuteTime": {
     "end_time": "2024-07-16T06:59:30.117778Z",
     "start_time": "2024-07-16T06:59:30.112961Z"
    }
   },
   "source": [
    "#sample means \n",
    "print(data_men_sample.Purchase.mean())\n",
    "print(data_women_sample.Purchase.mean())"
   ],
   "outputs": [
    {
     "name": "stdout",
     "output_type": "stream",
     "text": [
      "9919.908\n",
      "8553.708\n"
     ]
    }
   ],
   "execution_count": 34
  },
  {
   "cell_type": "code",
   "id": "bd12c3d9",
   "metadata": {
    "colab": {
     "base_uri": "https://localhost:8080/"
    },
    "id": "bd12c3d9",
    "outputId": "e5e8aebe-febc-400f-d176-1225cc43e831",
    "ExecuteTime": {
     "end_time": "2024-07-16T06:59:30.366622Z",
     "start_time": "2024-07-16T06:59:30.360422Z"
    }
   },
   "source": [
    "#compute f statistic\n",
    "from scipy.stats import f #f-test is used to compare the variances\n",
    "F = data_men_sample.Purchase.mean()/data_women_sample.Purchase.mean()\n",
    "F"
   ],
   "outputs": [
    {
     "data": {
      "text/plain": [
       "1.15972020555296"
      ]
     },
     "execution_count": 35,
     "metadata": {},
     "output_type": "execute_result"
    }
   ],
   "execution_count": 35
  },
  {
   "cell_type": "code",
   "id": "d7832084",
   "metadata": {
    "colab": {
     "base_uri": "https://localhost:8080/"
    },
    "id": "d7832084",
    "outputId": "13e3c8da-dbb8-4da0-dee6-8f6ecd1350ec",
    "ExecuteTime": {
     "end_time": "2024-07-16T06:59:30.657783Z",
     "start_time": "2024-07-16T06:59:30.653253Z"
    }
   },
   "source": [
    "#calculating the degrees of freedom \n",
    "#Degrees of freedom is the number of independent pieces of \n",
    "#information used to calculate a statistic.\n",
    "df1 = len(data_men_sample) - 1\n",
    "df2 = len(data_women_sample) - 1\n",
    "print(df1, df2)"
   ],
   "outputs": [
    {
     "name": "stdout",
     "output_type": "stream",
     "text": [
      "499 499\n"
     ]
    }
   ],
   "execution_count": 36
  },
  {
   "cell_type": "code",
   "id": "a23fa4d9",
   "metadata": {
    "colab": {
     "base_uri": "https://localhost:8080/"
    },
    "id": "a23fa4d9",
    "outputId": "332f1946-56c7-4b5d-b6d6-a95bcd6c9011",
    "ExecuteTime": {
     "end_time": "2024-07-16T06:59:32.153411Z",
     "start_time": "2024-07-16T06:59:32.145669Z"
    }
   },
   "source": [
    "#p-value\n",
    "#cdf - The cumulative distribution function is used \n",
    "#to describe the probability distribution of random variables\n",
    "import scipy\n",
    "scipy.stats.f.cdf(F, df1, df2)"
   ],
   "outputs": [
    {
     "data": {
      "text/plain": [
       "0.9508800574313439"
      ]
     },
     "execution_count": 37,
     "metadata": {},
     "output_type": "execute_result"
    }
   ],
   "execution_count": 37
  },
  {
   "cell_type": "code",
   "id": "39826541",
   "metadata": {
    "id": "39826541",
    "ExecuteTime": {
     "end_time": "2024-07-16T06:59:32.694584Z",
     "start_time": "2024-07-16T06:59:32.691480Z"
    }
   },
   "source": [
    "#the p-value is greater than 0.05, do not reject the null hypothesis. \n",
    "#the null hypothesis is true. The average purchases are same. "
   ],
   "outputs": [],
   "execution_count": 38
  },
  {
   "cell_type": "markdown",
   "id": "059bc1e8",
   "metadata": {
    "id": "059bc1e8"
   },
   "source": [
    "Is the percentage of men who have spent more than 10000 the same for the\n",
    "ages 18-25 and 26-35?"
   ]
  },
  {
   "cell_type": "code",
   "id": "8072e676",
   "metadata": {
    "id": "8072e676",
    "ExecuteTime": {
     "end_time": "2024-07-16T06:59:37.189207Z",
     "start_time": "2024-07-16T06:59:37.173330Z"
    }
   },
   "source": [
    "#null hypothesis - Percentage of the men in the age groups is same\n",
    "#alternate hypothesis - Percentage of the men in the age groups is not same\n",
    "\n",
    "data_age1 = data.loc[(data['Age'] == 1) & (data['Purchase'] > 10000)]\n",
    "data_age2 = data.loc[(data['Age'] == 2) & (data['Purchase'] > 10000)]"
   ],
   "outputs": [],
   "execution_count": 39
  },
  {
   "cell_type": "code",
   "id": "73e26871",
   "metadata": {
    "id": "73e26871",
    "ExecuteTime": {
     "end_time": "2024-07-16T06:59:37.307036Z",
     "start_time": "2024-07-16T06:59:37.298900Z"
    }
   },
   "source": [
    "data_age1_sample = data_age1.sample(1000, random_state=0)\n",
    "data_age2_sample = data_age2.sample(1000, random_state=0)"
   ],
   "outputs": [],
   "execution_count": 40
  },
  {
   "cell_type": "code",
   "id": "7a1f6c4b",
   "metadata": {
    "id": "7a1f6c4b",
    "ExecuteTime": {
     "end_time": "2024-07-16T06:59:37.479471Z",
     "start_time": "2024-07-16T06:59:37.474360Z"
    }
   },
   "source": [
    "count = [(data_age1_sample['Gender'] == 1).sum(), (data_age2_sample['Gender'] == 1).sum()]\n",
    "\n",
    "nobs = [(len(data_age1_sample)), len(data_age2_sample)]"
   ],
   "outputs": [],
   "execution_count": 41
  },
  {
   "cell_type": "code",
   "id": "d2ab3760",
   "metadata": {
    "colab": {
     "base_uri": "https://localhost:8080/"
    },
    "id": "d2ab3760",
    "outputId": "9d4f9ed5-cccb-471d-edfe-d1481b0e65c3",
    "ExecuteTime": {
     "end_time": "2024-07-16T06:59:38.345631Z",
     "start_time": "2024-07-16T06:59:38.340081Z"
    }
   },
   "source": [
    "count"
   ],
   "outputs": [
    {
     "data": {
      "text/plain": [
       "[790, 811]"
      ]
     },
     "execution_count": 42,
     "metadata": {},
     "output_type": "execute_result"
    }
   ],
   "execution_count": 42
  },
  {
   "cell_type": "code",
   "id": "e0fe227c",
   "metadata": {
    "colab": {
     "base_uri": "https://localhost:8080/"
    },
    "id": "e0fe227c",
    "outputId": "de12e302-da4a-47a4-fe25-dd59814a787c",
    "ExecuteTime": {
     "end_time": "2024-07-16T06:59:38.596533Z",
     "start_time": "2024-07-16T06:59:38.590659Z"
    }
   },
   "source": [
    "nobs"
   ],
   "outputs": [
    {
     "data": {
      "text/plain": [
       "[1000, 1000]"
      ]
     },
     "execution_count": 43,
     "metadata": {},
     "output_type": "execute_result"
    }
   ],
   "execution_count": 43
  },
  {
   "cell_type": "code",
   "id": "aafc9446",
   "metadata": {
    "id": "aafc9446",
    "ExecuteTime": {
     "end_time": "2024-07-16T06:59:38.675355Z",
     "start_time": "2024-07-16T06:59:38.671154Z"
    }
   },
   "source": [
    "from statsmodels.stats.proportion import proportions_ztest\n",
    "stat_2sample, p_value_2sample = proportions_ztest(count=count, nobs=nobs)"
   ],
   "outputs": [],
   "execution_count": 44
  },
  {
   "cell_type": "code",
   "id": "4f75ba70",
   "metadata": {
    "colab": {
     "base_uri": "https://localhost:8080/"
    },
    "id": "4f75ba70",
    "outputId": "374f2867-a158-47c8-cc73-5acaf4029bd3",
    "ExecuteTime": {
     "end_time": "2024-07-16T06:59:38.780929Z",
     "start_time": "2024-07-16T06:59:38.776386Z"
    }
   },
   "source": [
    "p_value_2sample"
   ],
   "outputs": [
    {
     "data": {
      "text/plain": [
       "0.2399792241715063"
      ]
     },
     "execution_count": 45,
     "metadata": {},
     "output_type": "execute_result"
    }
   ],
   "execution_count": 45
  },
  {
   "cell_type": "code",
   "id": "336efcde",
   "metadata": {
    "id": "336efcde",
    "ExecuteTime": {
     "end_time": "2024-07-16T06:59:38.826782Z",
     "start_time": "2024-07-16T06:59:38.823316Z"
    }
   },
   "source": [
    "#p value is more than 0.05, accept the null hypthesis. \n",
    "#therefore, Percentage of the men in the age groups is same"
   ],
   "outputs": [],
   "execution_count": 46
  },
  {
   "metadata": {
    "ExecuteTime": {
     "end_time": "2024-07-16T07:01:52.900127Z",
     "start_time": "2024-07-16T07:01:52.897033Z"
    }
   },
   "cell_type": "code",
   "source": "",
   "id": "3fbc9ecc796035a4",
   "outputs": [],
   "execution_count": 48
  },
  {
   "metadata": {},
   "cell_type": "code",
   "outputs": [],
   "execution_count": null,
   "source": "",
   "id": "4fd01e7351367ca2"
  }
 ],
 "metadata": {
  "kernelspec": {
   "display_name": "Python 3 (ipykernel)",
   "language": "python",
   "name": "python3"
  },
  "language_info": {
   "codemirror_mode": {
    "name": "ipython",
    "version": 3
   },
   "file_extension": ".py",
   "mimetype": "text/x-python",
   "name": "python",
   "nbconvert_exporter": "python",
   "pygments_lexer": "ipython3",
   "version": "3.9.12"
  },
  "colab": {
   "provenance": []
  }
 },
 "nbformat": 4,
 "nbformat_minor": 5
}
